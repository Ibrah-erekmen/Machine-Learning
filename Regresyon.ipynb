{
  "nbformat": 4,
  "nbformat_minor": 0,
  "metadata": {
    "colab": {
      "name": "Regresyon.ipynb",
      "provenance": [],
      "collapsed_sections": [
        "0PRD5uCTKOyt",
        "7qDSTGzLPfWs",
        "jmZPMVAaUWBq",
        "7eLuKzjQBFjq",
        "sFy6OVaHUMTU",
        "-O5OxyFWwoBj",
        "nkhZrrjbOtgp",
        "tP-10KgvCM3C",
        "DO1HBqMWUBFq",
        "tHb3Dfiy2rEI",
        "9eHn_VKlEtJd",
        "9za8pEhtyII_",
        "Pjt_dXxsyGPG",
        "kdd-i3UqDwb2"
      ]
    },
    "kernelspec": {
      "name": "python3",
      "display_name": "Python 3"
    },
    "language_info": {
      "name": "python"
    }
  },
  "cells": [
    {
      "cell_type": "markdown",
      "metadata": {
        "id": "6u9tL82dUcFq"
      },
      "source": [
        "# **İbrahim Erekmen** \n",
        "\n",
        "##**1806102040**\n",
        "\n",
        "###**Regresyon Analizi**\n",
        "\n"
      ]
    },
    {
      "cell_type": "markdown",
      "metadata": {
        "id": "0PRD5uCTKOyt"
      },
      "source": [
        "#Tanım"
      ]
    },
    {
      "cell_type": "markdown",
      "metadata": {
        "id": "7qDSTGzLPfWs"
      },
      "source": [
        "##Amaç"
      ]
    },
    {
      "cell_type": "markdown",
      "metadata": {
        "id": "gJpIwcjVUzRr"
      },
      "source": [
        "Bu defterin hazırlamasındaki amaç, çeşitli regrosyon modelllerin tanımı, ev bilgilerinin olduğu veri setinin incelenmesi görselleştirilmesi, çeşitli Regresyon Modellerinin bu veri seti üzerinde eğitilmesi, ve rmse hatasının hesaplanması ayrıca bazı ev fiyatlarının tahimlemesi şeklindedir."
      ]
    },
    {
      "cell_type": "markdown",
      "metadata": {
        "id": "jmZPMVAaUWBq"
      },
      "source": [
        "##Doğrusal Regresyon Tanım"
      ]
    },
    {
      "cell_type": "markdown",
      "metadata": {
        "id": "95ps0Jz_LUZB"
      },
      "source": [
        "Temsil, belirli bir girdi değerleri (x) kümesini, bu girdi değerleri (y) kümesi için tahmin edilen çıktı olan çözümü birleştiren doğrusal bir denklemdir. Bu nedenle, hem giriş değerleri (x) hem de çıkış değeri sayısaldır\n",
        "\n",
        "Doğrusal denklem, her girdi değerine veya sütuna, katsayı adı verilen ve büyük Yunanca Beta (B) harfiyle gösterilen bir ölçek faktörü atar. Çizgiye ek bir serbestlik derecesi veren (örneğin iki boyutlu bir çizimde yukarı ve aşağı hareket etme) ek bir katsayı da eklenir ve genellikle kesişme veya sapma katsayısı olarak adlandırılır.\n",
        "\n",
        "Örneğin, basit bir regresyon probleminde (tek bir x ve bir tek y), modelin formu şöyle olacaktır:\n",
        "\n",
        "**y = B0 + B1*x**\n",
        "\n",
        "Daha yüksek boyutlarda, birden fazla girdiye (x) sahip olduğumuzda, çizgiye düzlem veya hiper-düzlem denir. Bu nedenle temsil, denklemin şekli ve katsayılar için kullanılan spesifik değerlerdir (örneğin, yukarıdaki örnekte B0 ve B1)."
      ]
    },
    {
      "cell_type": "markdown",
      "metadata": {
        "id": "7eLuKzjQBFjq"
      },
      "source": [
        "## Polinomal Regresyon Tanım"
      ]
    },
    {
      "cell_type": "markdown",
      "metadata": {
        "id": "RYDygjVWBJIz"
      },
      "source": [
        "Polinom Regresyon, bağımlı(y) ve bağımsız değişken(x) arasındaki ilişkiyi n'inci dereceden polinom olarak modelleyen bir regresyon algoritmasıdır. Polinom Regresyon denklemi aşağıda verilmiştir:\n",
        "\n",
        "**y= b0+b1x1+ b2x12+ b2x13+...... bnx1n**\n",
        "\n",
        "Neden polinomal regreyon?\n",
        "\n",
        "Doğrusal bir veri kümesine doğrusal bir model uygularsak , Basit Doğrusal Regresyon'da gördüğümüz gibi bize iyi bir sonuç verir, ancak aynı modeli doğrusal olmayan bir veri kümesinde herhangi bir değişiklik yapmadan uygularsak , o zaman sert bir sonuç verir. çıktı. Hangi kayıp fonksiyonunun artacağından dolayı hata oranı yüksek olacak ve doğruluk düşecektir.\n",
        "Dolayısıyla, veri noktalarının doğrusal olmayan bir şekilde düzenlendiği bu tür durumlar için Polinom Regresyon modeline ihtiyacımız var . Doğrusal veri kümesi ve doğrusal olmayan veri kümesinin aşağıdaki karşılaştırma şemasını kullanarak daha iyi anlayabiliriz."
      ]
    },
    {
      "cell_type": "markdown",
      "metadata": {
        "id": "sFy6OVaHUMTU"
      },
      "source": [
        "#Veriseti inceleme ve görselleştirme"
      ]
    },
    {
      "cell_type": "markdown",
      "metadata": {
        "id": "2D_yefCKQ-g2"
      },
      "source": [
        "Bazı önemli kütüphanalerin içe aktarılması"
      ]
    },
    {
      "cell_type": "code",
      "metadata": {
        "id": "hXh0KBZ4ULp9"
      },
      "source": [
        "import numpy as np\n",
        "import matplotlib.pyplot as plt\n",
        "import seaborn as sns\n",
        "import pandas as pd"
      ],
      "execution_count": null,
      "outputs": []
    },
    {
      "cell_type": "markdown",
      "metadata": {
        "id": "zWzMcewuRHDz"
      },
      "source": [
        "Verinin okunması"
      ]
    },
    {
      "cell_type": "code",
      "metadata": {
        "id": "ngnahB_IwUT_"
      },
      "source": [
        "df=pd.read_csv(\"home_data.csv\")"
      ],
      "execution_count": null,
      "outputs": []
    },
    {
      "cell_type": "markdown",
      "metadata": {
        "id": "5tsaghmJRKwc"
      },
      "source": [
        "Verinin ilk 5 satırı"
      ]
    },
    {
      "cell_type": "code",
      "metadata": {
        "colab": {
          "base_uri": "https://localhost:8080/",
          "height": 224
        },
        "id": "MMOFvZueyWxX",
        "outputId": "4551a238-b947-4c3c-9c32-5928f7f4e12c"
      },
      "source": [
        "df.head()"
      ],
      "execution_count": null,
      "outputs": [
        {
          "output_type": "execute_result",
          "data": {
            "text/html": [
              "<div>\n",
              "<style scoped>\n",
              "    .dataframe tbody tr th:only-of-type {\n",
              "        vertical-align: middle;\n",
              "    }\n",
              "\n",
              "    .dataframe tbody tr th {\n",
              "        vertical-align: top;\n",
              "    }\n",
              "\n",
              "    .dataframe thead th {\n",
              "        text-align: right;\n",
              "    }\n",
              "</style>\n",
              "<table border=\"1\" class=\"dataframe\">\n",
              "  <thead>\n",
              "    <tr style=\"text-align: right;\">\n",
              "      <th></th>\n",
              "      <th>id</th>\n",
              "      <th>date</th>\n",
              "      <th>price</th>\n",
              "      <th>bedrooms</th>\n",
              "      <th>bathrooms</th>\n",
              "      <th>sqft_living</th>\n",
              "      <th>sqft_lot</th>\n",
              "      <th>floors</th>\n",
              "      <th>waterfront</th>\n",
              "      <th>view</th>\n",
              "      <th>condition</th>\n",
              "      <th>grade</th>\n",
              "      <th>sqft_above</th>\n",
              "      <th>sqft_basement</th>\n",
              "      <th>yr_built</th>\n",
              "      <th>yr_renovated</th>\n",
              "      <th>zipcode</th>\n",
              "      <th>lat</th>\n",
              "      <th>long</th>\n",
              "      <th>sqft_living15</th>\n",
              "      <th>sqft_lot15</th>\n",
              "    </tr>\n",
              "  </thead>\n",
              "  <tbody>\n",
              "    <tr>\n",
              "      <th>0</th>\n",
              "      <td>7129300520</td>\n",
              "      <td>20141013T000000</td>\n",
              "      <td>221900</td>\n",
              "      <td>3</td>\n",
              "      <td>1.00</td>\n",
              "      <td>1180</td>\n",
              "      <td>5650</td>\n",
              "      <td>1.0</td>\n",
              "      <td>0</td>\n",
              "      <td>0</td>\n",
              "      <td>3</td>\n",
              "      <td>7</td>\n",
              "      <td>1180</td>\n",
              "      <td>0</td>\n",
              "      <td>1955</td>\n",
              "      <td>0</td>\n",
              "      <td>98178</td>\n",
              "      <td>47.5112</td>\n",
              "      <td>-122.257</td>\n",
              "      <td>1340</td>\n",
              "      <td>5650</td>\n",
              "    </tr>\n",
              "    <tr>\n",
              "      <th>1</th>\n",
              "      <td>6414100192</td>\n",
              "      <td>20141209T000000</td>\n",
              "      <td>538000</td>\n",
              "      <td>3</td>\n",
              "      <td>2.25</td>\n",
              "      <td>2570</td>\n",
              "      <td>7242</td>\n",
              "      <td>2.0</td>\n",
              "      <td>0</td>\n",
              "      <td>0</td>\n",
              "      <td>3</td>\n",
              "      <td>7</td>\n",
              "      <td>2170</td>\n",
              "      <td>400</td>\n",
              "      <td>1951</td>\n",
              "      <td>1991</td>\n",
              "      <td>98125</td>\n",
              "      <td>47.7210</td>\n",
              "      <td>-122.319</td>\n",
              "      <td>1690</td>\n",
              "      <td>7639</td>\n",
              "    </tr>\n",
              "    <tr>\n",
              "      <th>2</th>\n",
              "      <td>5631500400</td>\n",
              "      <td>20150225T000000</td>\n",
              "      <td>180000</td>\n",
              "      <td>2</td>\n",
              "      <td>1.00</td>\n",
              "      <td>770</td>\n",
              "      <td>10000</td>\n",
              "      <td>1.0</td>\n",
              "      <td>0</td>\n",
              "      <td>0</td>\n",
              "      <td>3</td>\n",
              "      <td>6</td>\n",
              "      <td>770</td>\n",
              "      <td>0</td>\n",
              "      <td>1933</td>\n",
              "      <td>0</td>\n",
              "      <td>98028</td>\n",
              "      <td>47.7379</td>\n",
              "      <td>-122.233</td>\n",
              "      <td>2720</td>\n",
              "      <td>8062</td>\n",
              "    </tr>\n",
              "    <tr>\n",
              "      <th>3</th>\n",
              "      <td>2487200875</td>\n",
              "      <td>20141209T000000</td>\n",
              "      <td>604000</td>\n",
              "      <td>4</td>\n",
              "      <td>3.00</td>\n",
              "      <td>1960</td>\n",
              "      <td>5000</td>\n",
              "      <td>1.0</td>\n",
              "      <td>0</td>\n",
              "      <td>0</td>\n",
              "      <td>5</td>\n",
              "      <td>7</td>\n",
              "      <td>1050</td>\n",
              "      <td>910</td>\n",
              "      <td>1965</td>\n",
              "      <td>0</td>\n",
              "      <td>98136</td>\n",
              "      <td>47.5208</td>\n",
              "      <td>-122.393</td>\n",
              "      <td>1360</td>\n",
              "      <td>5000</td>\n",
              "    </tr>\n",
              "    <tr>\n",
              "      <th>4</th>\n",
              "      <td>1954400510</td>\n",
              "      <td>20150218T000000</td>\n",
              "      <td>510000</td>\n",
              "      <td>3</td>\n",
              "      <td>2.00</td>\n",
              "      <td>1680</td>\n",
              "      <td>8080</td>\n",
              "      <td>1.0</td>\n",
              "      <td>0</td>\n",
              "      <td>0</td>\n",
              "      <td>3</td>\n",
              "      <td>8</td>\n",
              "      <td>1680</td>\n",
              "      <td>0</td>\n",
              "      <td>1987</td>\n",
              "      <td>0</td>\n",
              "      <td>98074</td>\n",
              "      <td>47.6168</td>\n",
              "      <td>-122.045</td>\n",
              "      <td>1800</td>\n",
              "      <td>7503</td>\n",
              "    </tr>\n",
              "  </tbody>\n",
              "</table>\n",
              "</div>"
            ],
            "text/plain": [
              "           id             date   price  ...     long  sqft_living15  sqft_lot15\n",
              "0  7129300520  20141013T000000  221900  ... -122.257           1340        5650\n",
              "1  6414100192  20141209T000000  538000  ... -122.319           1690        7639\n",
              "2  5631500400  20150225T000000  180000  ... -122.233           2720        8062\n",
              "3  2487200875  20141209T000000  604000  ... -122.393           1360        5000\n",
              "4  1954400510  20150218T000000  510000  ... -122.045           1800        7503\n",
              "\n",
              "[5 rows x 21 columns]"
            ]
          },
          "metadata": {},
          "execution_count": 3
        }
      ]
    },
    {
      "cell_type": "markdown",
      "metadata": {
        "id": "McHgd34WRO-N"
      },
      "source": [
        "Verşye özgü bazı sayısal değerler"
      ]
    },
    {
      "cell_type": "code",
      "metadata": {
        "colab": {
          "base_uri": "https://localhost:8080/",
          "height": 317
        },
        "id": "k07CuEQ7IZXC",
        "outputId": "cd3b1e1d-abf0-47de-eec1-0da2cf3cd6b3"
      },
      "source": [
        "df.describe()"
      ],
      "execution_count": null,
      "outputs": [
        {
          "output_type": "execute_result",
          "data": {
            "text/html": [
              "<div>\n",
              "<style scoped>\n",
              "    .dataframe tbody tr th:only-of-type {\n",
              "        vertical-align: middle;\n",
              "    }\n",
              "\n",
              "    .dataframe tbody tr th {\n",
              "        vertical-align: top;\n",
              "    }\n",
              "\n",
              "    .dataframe thead th {\n",
              "        text-align: right;\n",
              "    }\n",
              "</style>\n",
              "<table border=\"1\" class=\"dataframe\">\n",
              "  <thead>\n",
              "    <tr style=\"text-align: right;\">\n",
              "      <th></th>\n",
              "      <th>id</th>\n",
              "      <th>price</th>\n",
              "      <th>bedrooms</th>\n",
              "      <th>bathrooms</th>\n",
              "      <th>sqft_living</th>\n",
              "      <th>sqft_lot</th>\n",
              "      <th>floors</th>\n",
              "      <th>waterfront</th>\n",
              "      <th>view</th>\n",
              "      <th>condition</th>\n",
              "      <th>grade</th>\n",
              "      <th>sqft_above</th>\n",
              "      <th>sqft_basement</th>\n",
              "      <th>yr_built</th>\n",
              "      <th>yr_renovated</th>\n",
              "      <th>zipcode</th>\n",
              "      <th>lat</th>\n",
              "      <th>long</th>\n",
              "      <th>sqft_living15</th>\n",
              "      <th>sqft_lot15</th>\n",
              "    </tr>\n",
              "  </thead>\n",
              "  <tbody>\n",
              "    <tr>\n",
              "      <th>count</th>\n",
              "      <td>2.161300e+04</td>\n",
              "      <td>2.161300e+04</td>\n",
              "      <td>21613.000000</td>\n",
              "      <td>21613.000000</td>\n",
              "      <td>21613.000000</td>\n",
              "      <td>2.161300e+04</td>\n",
              "      <td>21613.000000</td>\n",
              "      <td>21613.000000</td>\n",
              "      <td>21613.000000</td>\n",
              "      <td>21613.000000</td>\n",
              "      <td>21613.000000</td>\n",
              "      <td>21613.000000</td>\n",
              "      <td>21613.000000</td>\n",
              "      <td>21613.000000</td>\n",
              "      <td>21613.000000</td>\n",
              "      <td>21613.000000</td>\n",
              "      <td>21613.000000</td>\n",
              "      <td>21613.000000</td>\n",
              "      <td>21613.000000</td>\n",
              "      <td>21613.000000</td>\n",
              "    </tr>\n",
              "    <tr>\n",
              "      <th>mean</th>\n",
              "      <td>4.580302e+09</td>\n",
              "      <td>5.400881e+05</td>\n",
              "      <td>3.370842</td>\n",
              "      <td>2.114757</td>\n",
              "      <td>2079.899736</td>\n",
              "      <td>1.510697e+04</td>\n",
              "      <td>1.494309</td>\n",
              "      <td>0.007542</td>\n",
              "      <td>0.234303</td>\n",
              "      <td>3.409430</td>\n",
              "      <td>7.656873</td>\n",
              "      <td>1788.390691</td>\n",
              "      <td>291.509045</td>\n",
              "      <td>1971.005136</td>\n",
              "      <td>84.402258</td>\n",
              "      <td>98077.939805</td>\n",
              "      <td>47.560053</td>\n",
              "      <td>-122.213896</td>\n",
              "      <td>1986.552492</td>\n",
              "      <td>12768.455652</td>\n",
              "    </tr>\n",
              "    <tr>\n",
              "      <th>std</th>\n",
              "      <td>2.876566e+09</td>\n",
              "      <td>3.671272e+05</td>\n",
              "      <td>0.930062</td>\n",
              "      <td>0.770163</td>\n",
              "      <td>918.440897</td>\n",
              "      <td>4.142051e+04</td>\n",
              "      <td>0.539989</td>\n",
              "      <td>0.086517</td>\n",
              "      <td>0.766318</td>\n",
              "      <td>0.650743</td>\n",
              "      <td>1.175459</td>\n",
              "      <td>828.090978</td>\n",
              "      <td>442.575043</td>\n",
              "      <td>29.373411</td>\n",
              "      <td>401.679240</td>\n",
              "      <td>53.505026</td>\n",
              "      <td>0.138564</td>\n",
              "      <td>0.140828</td>\n",
              "      <td>685.391304</td>\n",
              "      <td>27304.179631</td>\n",
              "    </tr>\n",
              "    <tr>\n",
              "      <th>min</th>\n",
              "      <td>1.000102e+06</td>\n",
              "      <td>7.500000e+04</td>\n",
              "      <td>0.000000</td>\n",
              "      <td>0.000000</td>\n",
              "      <td>290.000000</td>\n",
              "      <td>5.200000e+02</td>\n",
              "      <td>1.000000</td>\n",
              "      <td>0.000000</td>\n",
              "      <td>0.000000</td>\n",
              "      <td>1.000000</td>\n",
              "      <td>1.000000</td>\n",
              "      <td>290.000000</td>\n",
              "      <td>0.000000</td>\n",
              "      <td>1900.000000</td>\n",
              "      <td>0.000000</td>\n",
              "      <td>98001.000000</td>\n",
              "      <td>47.155900</td>\n",
              "      <td>-122.519000</td>\n",
              "      <td>399.000000</td>\n",
              "      <td>651.000000</td>\n",
              "    </tr>\n",
              "    <tr>\n",
              "      <th>25%</th>\n",
              "      <td>2.123049e+09</td>\n",
              "      <td>3.219500e+05</td>\n",
              "      <td>3.000000</td>\n",
              "      <td>1.750000</td>\n",
              "      <td>1427.000000</td>\n",
              "      <td>5.040000e+03</td>\n",
              "      <td>1.000000</td>\n",
              "      <td>0.000000</td>\n",
              "      <td>0.000000</td>\n",
              "      <td>3.000000</td>\n",
              "      <td>7.000000</td>\n",
              "      <td>1190.000000</td>\n",
              "      <td>0.000000</td>\n",
              "      <td>1951.000000</td>\n",
              "      <td>0.000000</td>\n",
              "      <td>98033.000000</td>\n",
              "      <td>47.471000</td>\n",
              "      <td>-122.328000</td>\n",
              "      <td>1490.000000</td>\n",
              "      <td>5100.000000</td>\n",
              "    </tr>\n",
              "    <tr>\n",
              "      <th>50%</th>\n",
              "      <td>3.904930e+09</td>\n",
              "      <td>4.500000e+05</td>\n",
              "      <td>3.000000</td>\n",
              "      <td>2.250000</td>\n",
              "      <td>1910.000000</td>\n",
              "      <td>7.618000e+03</td>\n",
              "      <td>1.500000</td>\n",
              "      <td>0.000000</td>\n",
              "      <td>0.000000</td>\n",
              "      <td>3.000000</td>\n",
              "      <td>7.000000</td>\n",
              "      <td>1560.000000</td>\n",
              "      <td>0.000000</td>\n",
              "      <td>1975.000000</td>\n",
              "      <td>0.000000</td>\n",
              "      <td>98065.000000</td>\n",
              "      <td>47.571800</td>\n",
              "      <td>-122.230000</td>\n",
              "      <td>1840.000000</td>\n",
              "      <td>7620.000000</td>\n",
              "    </tr>\n",
              "    <tr>\n",
              "      <th>75%</th>\n",
              "      <td>7.308900e+09</td>\n",
              "      <td>6.450000e+05</td>\n",
              "      <td>4.000000</td>\n",
              "      <td>2.500000</td>\n",
              "      <td>2550.000000</td>\n",
              "      <td>1.068800e+04</td>\n",
              "      <td>2.000000</td>\n",
              "      <td>0.000000</td>\n",
              "      <td>0.000000</td>\n",
              "      <td>4.000000</td>\n",
              "      <td>8.000000</td>\n",
              "      <td>2210.000000</td>\n",
              "      <td>560.000000</td>\n",
              "      <td>1997.000000</td>\n",
              "      <td>0.000000</td>\n",
              "      <td>98118.000000</td>\n",
              "      <td>47.678000</td>\n",
              "      <td>-122.125000</td>\n",
              "      <td>2360.000000</td>\n",
              "      <td>10083.000000</td>\n",
              "    </tr>\n",
              "    <tr>\n",
              "      <th>max</th>\n",
              "      <td>9.900000e+09</td>\n",
              "      <td>7.700000e+06</td>\n",
              "      <td>33.000000</td>\n",
              "      <td>8.000000</td>\n",
              "      <td>13540.000000</td>\n",
              "      <td>1.651359e+06</td>\n",
              "      <td>3.500000</td>\n",
              "      <td>1.000000</td>\n",
              "      <td>4.000000</td>\n",
              "      <td>5.000000</td>\n",
              "      <td>13.000000</td>\n",
              "      <td>9410.000000</td>\n",
              "      <td>4820.000000</td>\n",
              "      <td>2015.000000</td>\n",
              "      <td>2015.000000</td>\n",
              "      <td>98199.000000</td>\n",
              "      <td>47.777600</td>\n",
              "      <td>-121.315000</td>\n",
              "      <td>6210.000000</td>\n",
              "      <td>871200.000000</td>\n",
              "    </tr>\n",
              "  </tbody>\n",
              "</table>\n",
              "</div>"
            ],
            "text/plain": [
              "                 id         price  ...  sqft_living15     sqft_lot15\n",
              "count  2.161300e+04  2.161300e+04  ...   21613.000000   21613.000000\n",
              "mean   4.580302e+09  5.400881e+05  ...    1986.552492   12768.455652\n",
              "std    2.876566e+09  3.671272e+05  ...     685.391304   27304.179631\n",
              "min    1.000102e+06  7.500000e+04  ...     399.000000     651.000000\n",
              "25%    2.123049e+09  3.219500e+05  ...    1490.000000    5100.000000\n",
              "50%    3.904930e+09  4.500000e+05  ...    1840.000000    7620.000000\n",
              "75%    7.308900e+09  6.450000e+05  ...    2360.000000   10083.000000\n",
              "max    9.900000e+09  7.700000e+06  ...    6210.000000  871200.000000\n",
              "\n",
              "[8 rows x 20 columns]"
            ]
          },
          "metadata": {},
          "execution_count": 4
        }
      ]
    },
    {
      "cell_type": "markdown",
      "metadata": {
        "id": "C49ooSFbAd5j"
      },
      "source": [
        "Veride boş değer içieren bir kolon olup olmadığının kontrolü"
      ]
    },
    {
      "cell_type": "code",
      "metadata": {
        "colab": {
          "base_uri": "https://localhost:8080/"
        },
        "id": "swmuYWI--V5e",
        "outputId": "910b9b63-8cc6-421a-85f7-2ea2ff743386"
      },
      "source": [
        "df.isnull().any()"
      ],
      "execution_count": null,
      "outputs": [
        {
          "output_type": "execute_result",
          "data": {
            "text/plain": [
              "id               False\n",
              "date             False\n",
              "price            False\n",
              "bedrooms         False\n",
              "bathrooms        False\n",
              "sqft_living      False\n",
              "sqft_lot         False\n",
              "floors           False\n",
              "waterfront       False\n",
              "view             False\n",
              "condition        False\n",
              "grade            False\n",
              "sqft_above       False\n",
              "sqft_basement    False\n",
              "yr_built         False\n",
              "yr_renovated     False\n",
              "zipcode          False\n",
              "lat              False\n",
              "long             False\n",
              "sqft_living15    False\n",
              "sqft_lot15       False\n",
              "dtype: bool"
            ]
          },
          "metadata": {},
          "execution_count": 4
        }
      ]
    },
    {
      "cell_type": "markdown",
      "metadata": {
        "id": "1WXBmsQsRSws"
      },
      "source": [
        "Veriye ait korelasyon matrisinin çizdirilmesi"
      ]
    },
    {
      "cell_type": "code",
      "metadata": {
        "colab": {
          "base_uri": "https://localhost:8080/",
          "height": 605
        },
        "id": "DMOqAuZkIlHe",
        "outputId": "34262ce6-2bad-40b4-b18c-992c779b99a4"
      },
      "source": [
        "corr=df.corr()\n",
        "corr=round(corr,2)\n",
        "plt.figure(figsize=(16,9))\n",
        "sns.heatmap(corr,annot=True)\n",
        "plt.show()"
      ],
      "execution_count": null,
      "outputs": [
        {
          "output_type": "display_data",
          "data": {
            "image/png": "[encoded data removed]",
            "text/plain": [
              "<Figure size 1152x648 with 2 Axes>"
            ]
          },
          "metadata": {
            "needs_background": "light"
          }
        }
      ]
    },
    {
      "cell_type": "markdown",
      "metadata": {
        "id": "mpZLCCWaRX_J"
      },
      "source": [
        "Posta koduna göre verinin dağılımı"
      ]
    },
    {
      "cell_type": "code",
      "metadata": {
        "colab": {
          "base_uri": "https://localhost:8080/",
          "height": 296
        },
        "id": "lFYhNbkz1ZGS",
        "outputId": "bfaa238c-846d-47c5-d670-02a02f2ae538"
      },
      "source": [
        "sns.histplot(data=df['zipcode'])"
      ],
      "execution_count": null,
      "outputs": [
        {
          "output_type": "execute_result",
          "data": {
            "text/plain": [
              "<matplotlib.axes._subplots.AxesSubplot at 0x7f030428cc50>"
            ]
          },
          "metadata": {},
          "execution_count": 5
        },
        {
          "output_type": "display_data",
          "data": {
            "image/png": "[encoded data removed]",
            "text/plain": [
              "<Figure size 432x288 with 1 Axes>"
            ]
          },
          "metadata": {
            "needs_background": "light"
          }
        }
      ]
    },
    {
      "cell_type": "markdown",
      "metadata": {
        "id": "AJts5MeMRtpY"
      },
      "source": [
        "Fiyat özelliğine göre verinin dağılımı"
      ]
    },
    {
      "cell_type": "code",
      "metadata": {
        "colab": {
          "base_uri": "https://localhost:8080/",
          "height": 296
        },
        "id": "8jPM9nKg5uCY",
        "outputId": "dc293f61-2e2c-4e5e-b132-612bff853140"
      },
      "source": [
        "sns.histplot(data=df['price'])"
      ],
      "execution_count": null,
      "outputs": [
        {
          "output_type": "execute_result",
          "data": {
            "text/plain": [
              "<matplotlib.axes._subplots.AxesSubplot at 0x7f0303e66dd0>"
            ]
          },
          "metadata": {},
          "execution_count": 6
        },
        {
          "output_type": "display_data",
          "data": {
            "image/png": "[encoded data removed]",
            "text/plain": [
              "<Figure size 432x288 with 1 Axes>"
            ]
          },
          "metadata": {
            "needs_background": "light"
          }
        }
      ]
    },
    {
      "cell_type": "markdown",
      "metadata": {
        "id": "NIFCPsuAC2qd"
      },
      "source": [
        "Posta kodu ve fiyat verislerinin dağılımı"
      ]
    },
    {
      "cell_type": "code",
      "metadata": {
        "id": "U-dSikqh2pjT",
        "colab": {
          "base_uri": "https://localhost:8080/",
          "height": 344
        },
        "outputId": "9308dc24-907f-4bbe-9963-4b039cbeb06c"
      },
      "source": [
        "sns.scatterplot(df['zipcode'],df['price'])\n",
        "plt.grid()\n",
        "plt.show()"
      ],
      "execution_count": null,
      "outputs": [
        {
          "output_type": "stream",
          "name": "stderr",
          "text": [
            "/usr/local/lib/python3.7/dist-packages/seaborn/_decorators.py:43: FutureWarning: Pass the following variables as keyword args: x, y. From version 0.12, the only valid positional argument will be `data`, and passing other arguments without an explicit keyword will result in an error or misinterpretation.\n",
            "  FutureWarning\n"
          ]
        },
        {
          "output_type": "display_data",
          "data": {
            "image/png": "[encoded data removed]",
            "text/plain": [
              "<Figure size 432x288 with 1 Axes>"
            ]
          },
          "metadata": {
            "needs_background": "light"
          }
        }
      ]
    },
    {
      "cell_type": "markdown",
      "metadata": {
        "id": "3xjXsXN-Rw6Q"
      },
      "source": [
        "Verideki en yüksek,en düşük ve oratalama ev satış fiyatları"
      ]
    },
    {
      "cell_type": "code",
      "metadata": {
        "colab": {
          "base_uri": "https://localhost:8080/"
        },
        "id": "6aVaXGLf525s",
        "outputId": "e9c4d843-9c06-433b-a7c7-9e91dccf9608"
      },
      "source": [
        "print(\"En yüksek ev satış fiyatı\",df['price'].max())\n",
        "print(\"En düşük ev satış fiyatı\",df['price'].min())\n",
        "print(\"Ortalama ev satış fiyatı\",np.mean(df['price']))"
      ],
      "execution_count": null,
      "outputs": [
        {
          "output_type": "stream",
          "name": "stdout",
          "text": [
            "7700000\n",
            "75000\n",
            "540088.1419053348\n"
          ]
        }
      ]
    },
    {
      "cell_type": "markdown",
      "metadata": {
        "id": "QG5u6PN1SdyF"
      },
      "source": [
        "En yüksek ortalama satış fiyatına sahip bölge"
      ]
    },
    {
      "cell_type": "code",
      "metadata": {
        "colab": {
          "base_uri": "https://localhost:8080/",
          "height": 100
        },
        "id": "O-YItKrlS2gZ",
        "outputId": "85a08cbf-6935-4bee-f826-e2b794534ced"
      },
      "source": [
        "max=df[df['price']==df['price'].max()]\n",
        "max"
      ],
      "execution_count": null,
      "outputs": [
        {
          "output_type": "execute_result",
          "data": {
            "text/html": [
              "<div>\n",
              "<style scoped>\n",
              "    .dataframe tbody tr th:only-of-type {\n",
              "        vertical-align: middle;\n",
              "    }\n",
              "\n",
              "    .dataframe tbody tr th {\n",
              "        vertical-align: top;\n",
              "    }\n",
              "\n",
              "    .dataframe thead th {\n",
              "        text-align: right;\n",
              "    }\n",
              "</style>\n",
              "<table border=\"1\" class=\"dataframe\">\n",
              "  <thead>\n",
              "    <tr style=\"text-align: right;\">\n",
              "      <th></th>\n",
              "      <th>id</th>\n",
              "      <th>date</th>\n",
              "      <th>price</th>\n",
              "      <th>bedrooms</th>\n",
              "      <th>bathrooms</th>\n",
              "      <th>sqft_living</th>\n",
              "      <th>sqft_lot</th>\n",
              "      <th>floors</th>\n",
              "      <th>waterfront</th>\n",
              "      <th>view</th>\n",
              "      <th>condition</th>\n",
              "      <th>grade</th>\n",
              "      <th>sqft_above</th>\n",
              "      <th>sqft_basement</th>\n",
              "      <th>yr_built</th>\n",
              "      <th>yr_renovated</th>\n",
              "      <th>zipcode</th>\n",
              "      <th>lat</th>\n",
              "      <th>long</th>\n",
              "      <th>sqft_living15</th>\n",
              "      <th>sqft_lot15</th>\n",
              "    </tr>\n",
              "  </thead>\n",
              "  <tbody>\n",
              "    <tr>\n",
              "      <th>7252</th>\n",
              "      <td>6762700020</td>\n",
              "      <td>20141013T000000</td>\n",
              "      <td>7700000</td>\n",
              "      <td>6</td>\n",
              "      <td>8.0</td>\n",
              "      <td>12050</td>\n",
              "      <td>27600</td>\n",
              "      <td>2.5</td>\n",
              "      <td>0</td>\n",
              "      <td>3</td>\n",
              "      <td>4</td>\n",
              "      <td>13</td>\n",
              "      <td>8570</td>\n",
              "      <td>3480</td>\n",
              "      <td>1910</td>\n",
              "      <td>1987</td>\n",
              "      <td>98102</td>\n",
              "      <td>47.6298</td>\n",
              "      <td>-122.323</td>\n",
              "      <td>3940</td>\n",
              "      <td>8800</td>\n",
              "    </tr>\n",
              "  </tbody>\n",
              "</table>\n",
              "</div>"
            ],
            "text/plain": [
              "              id             date    price  ...     long  sqft_living15  sqft_lot15\n",
              "7252  6762700020  20141013T000000  7700000  ... -122.323           3940        8800\n",
              "\n",
              "[1 rows x 21 columns]"
            ]
          },
          "metadata": {},
          "execution_count": 17
        }
      ]
    },
    {
      "cell_type": "markdown",
      "metadata": {
        "id": "I0yMmaODUAl0"
      },
      "source": [
        "En yüksek satış fiyatına sahip bölge"
      ]
    },
    {
      "cell_type": "code",
      "metadata": {
        "colab": {
          "base_uri": "https://localhost:8080/"
        },
        "id": "OQJ-cxPTT8Dc",
        "outputId": "92dede70-1bfa-4fa6-8c4c-ef0a831707df"
      },
      "source": [
        "max['zipcode']"
      ],
      "execution_count": null,
      "outputs": [
        {
          "output_type": "execute_result",
          "data": {
            "text/plain": [
              "7252    98102\n",
              "Name: zipcode, dtype: int64"
            ]
          },
          "metadata": {},
          "execution_count": 18
        }
      ]
    },
    {
      "cell_type": "markdown",
      "metadata": {
        "id": "5MUuI7LgUqCE"
      },
      "source": [
        "En yüksek ev satış fiyatına sahip bölgedeki ortalama ev satış fiyatı"
      ]
    },
    {
      "cell_type": "code",
      "metadata": {
        "colab": {
          "base_uri": "https://localhost:8080/"
        },
        "id": "KuNDTFsUUIxe",
        "outputId": "3ac5102f-a6c0-48d8-a29c-7f7ba01afaa4"
      },
      "source": [
        "zc=df[df['zipcode']==98102]\n",
        "print(\"En yüksek ev satış fiyatına sahip bölgedeki ortalama ev satış fiyatı:\",zc['price'].mean())"
      ],
      "execution_count": null,
      "outputs": [
        {
          "output_type": "stream",
          "name": "stdout",
          "text": [
            "En yüksek ev satış fiyatına sahip bölgedeki ortalama ev satış fiyatı 901258.2380952381\n"
          ]
        }
      ]
    },
    {
      "cell_type": "markdown",
      "metadata": {
        "id": "k_-pd9pLU_Op"
      },
      "source": [
        "Ev fiyatlarının filtelenmesi (2000 sqft den büyük ve 4000 sqft den küçük olanalar)"
      ]
    },
    {
      "cell_type": "code",
      "metadata": {
        "colab": {
          "base_uri": "https://localhost:8080/",
          "height": 439
        },
        "id": "aRY4Vi1olhqb",
        "outputId": "048c2d0e-ce6c-45ed-e8c5-afc09f1357b5"
      },
      "source": [
        "high2k=df[df['sqft_living']>2000]#2000 sq feetden büyükler\n",
        "filtered=high2k[high2k['sqft_living']<4000]#2000 sq feetden büyüklerin içindeki 4000'den küçükler\n",
        "filtered"
      ],
      "execution_count": null,
      "outputs": [
        {
          "output_type": "execute_result",
          "data": {
            "text/html": [
              "<div>\n",
              "<style scoped>\n",
              "    .dataframe tbody tr th:only-of-type {\n",
              "        vertical-align: middle;\n",
              "    }\n",
              "\n",
              "    .dataframe tbody tr th {\n",
              "        vertical-align: top;\n",
              "    }\n",
              "\n",
              "    .dataframe thead th {\n",
              "        text-align: right;\n",
              "    }\n",
              "</style>\n",
              "<table border=\"1\" class=\"dataframe\">\n",
              "  <thead>\n",
              "    <tr style=\"text-align: right;\">\n",
              "      <th></th>\n",
              "      <th>id</th>\n",
              "      <th>date</th>\n",
              "      <th>price</th>\n",
              "      <th>bedrooms</th>\n",
              "      <th>bathrooms</th>\n",
              "      <th>sqft_living</th>\n",
              "      <th>sqft_lot</th>\n",
              "      <th>floors</th>\n",
              "      <th>waterfront</th>\n",
              "      <th>view</th>\n",
              "      <th>condition</th>\n",
              "      <th>grade</th>\n",
              "      <th>sqft_above</th>\n",
              "      <th>sqft_basement</th>\n",
              "      <th>yr_built</th>\n",
              "      <th>yr_renovated</th>\n",
              "      <th>zipcode</th>\n",
              "      <th>lat</th>\n",
              "      <th>long</th>\n",
              "      <th>sqft_living15</th>\n",
              "      <th>sqft_lot15</th>\n",
              "    </tr>\n",
              "  </thead>\n",
              "  <tbody>\n",
              "    <tr>\n",
              "      <th>1</th>\n",
              "      <td>6414100192</td>\n",
              "      <td>20141209T000000</td>\n",
              "      <td>538000</td>\n",
              "      <td>3</td>\n",
              "      <td>2.25</td>\n",
              "      <td>2570</td>\n",
              "      <td>7242</td>\n",
              "      <td>2.0</td>\n",
              "      <td>0</td>\n",
              "      <td>0</td>\n",
              "      <td>3</td>\n",
              "      <td>7</td>\n",
              "      <td>2170</td>\n",
              "      <td>400</td>\n",
              "      <td>1951</td>\n",
              "      <td>1991</td>\n",
              "      <td>98125</td>\n",
              "      <td>47.7210</td>\n",
              "      <td>-122.319</td>\n",
              "      <td>1690</td>\n",
              "      <td>7639</td>\n",
              "    </tr>\n",
              "    <tr>\n",
              "      <th>10</th>\n",
              "      <td>1736800520</td>\n",
              "      <td>20150403T000000</td>\n",
              "      <td>662500</td>\n",
              "      <td>3</td>\n",
              "      <td>2.50</td>\n",
              "      <td>3560</td>\n",
              "      <td>9796</td>\n",
              "      <td>1.0</td>\n",
              "      <td>0</td>\n",
              "      <td>0</td>\n",
              "      <td>3</td>\n",
              "      <td>8</td>\n",
              "      <td>1860</td>\n",
              "      <td>1700</td>\n",
              "      <td>1965</td>\n",
              "      <td>0</td>\n",
              "      <td>98007</td>\n",
              "      <td>47.6007</td>\n",
              "      <td>-122.145</td>\n",
              "      <td>2210</td>\n",
              "      <td>8925</td>\n",
              "    </tr>\n",
              "    <tr>\n",
              "      <th>15</th>\n",
              "      <td>9297300055</td>\n",
              "      <td>20150124T000000</td>\n",
              "      <td>650000</td>\n",
              "      <td>4</td>\n",
              "      <td>3.00</td>\n",
              "      <td>2950</td>\n",
              "      <td>5000</td>\n",
              "      <td>2.0</td>\n",
              "      <td>0</td>\n",
              "      <td>3</td>\n",
              "      <td>3</td>\n",
              "      <td>9</td>\n",
              "      <td>1980</td>\n",
              "      <td>970</td>\n",
              "      <td>1979</td>\n",
              "      <td>0</td>\n",
              "      <td>98126</td>\n",
              "      <td>47.5714</td>\n",
              "      <td>-122.375</td>\n",
              "      <td>2140</td>\n",
              "      <td>4000</td>\n",
              "    </tr>\n",
              "    <tr>\n",
              "      <th>21</th>\n",
              "      <td>2524049179</td>\n",
              "      <td>20140826T000000</td>\n",
              "      <td>2000000</td>\n",
              "      <td>3</td>\n",
              "      <td>2.75</td>\n",
              "      <td>3050</td>\n",
              "      <td>44867</td>\n",
              "      <td>1.0</td>\n",
              "      <td>0</td>\n",
              "      <td>4</td>\n",
              "      <td>3</td>\n",
              "      <td>9</td>\n",
              "      <td>2330</td>\n",
              "      <td>720</td>\n",
              "      <td>1968</td>\n",
              "      <td>0</td>\n",
              "      <td>98040</td>\n",
              "      <td>47.5316</td>\n",
              "      <td>-122.233</td>\n",
              "      <td>4110</td>\n",
              "      <td>20336</td>\n",
              "    </tr>\n",
              "    <tr>\n",
              "      <th>22</th>\n",
              "      <td>7137970340</td>\n",
              "      <td>20140703T000000</td>\n",
              "      <td>285000</td>\n",
              "      <td>5</td>\n",
              "      <td>2.50</td>\n",
              "      <td>2270</td>\n",
              "      <td>6300</td>\n",
              "      <td>2.0</td>\n",
              "      <td>0</td>\n",
              "      <td>0</td>\n",
              "      <td>3</td>\n",
              "      <td>8</td>\n",
              "      <td>2270</td>\n",
              "      <td>0</td>\n",
              "      <td>1995</td>\n",
              "      <td>0</td>\n",
              "      <td>98092</td>\n",
              "      <td>47.3266</td>\n",
              "      <td>-122.169</td>\n",
              "      <td>2240</td>\n",
              "      <td>7005</td>\n",
              "    </tr>\n",
              "    <tr>\n",
              "      <th>...</th>\n",
              "      <td>...</td>\n",
              "      <td>...</td>\n",
              "      <td>...</td>\n",
              "      <td>...</td>\n",
              "      <td>...</td>\n",
              "      <td>...</td>\n",
              "      <td>...</td>\n",
              "      <td>...</td>\n",
              "      <td>...</td>\n",
              "      <td>...</td>\n",
              "      <td>...</td>\n",
              "      <td>...</td>\n",
              "      <td>...</td>\n",
              "      <td>...</td>\n",
              "      <td>...</td>\n",
              "      <td>...</td>\n",
              "      <td>...</td>\n",
              "      <td>...</td>\n",
              "      <td>...</td>\n",
              "      <td>...</td>\n",
              "      <td>...</td>\n",
              "    </tr>\n",
              "    <tr>\n",
              "      <th>21599</th>\n",
              "      <td>7202300110</td>\n",
              "      <td>20140915T000000</td>\n",
              "      <td>810000</td>\n",
              "      <td>4</td>\n",
              "      <td>3.00</td>\n",
              "      <td>3990</td>\n",
              "      <td>7838</td>\n",
              "      <td>2.0</td>\n",
              "      <td>0</td>\n",
              "      <td>0</td>\n",
              "      <td>3</td>\n",
              "      <td>9</td>\n",
              "      <td>3990</td>\n",
              "      <td>0</td>\n",
              "      <td>2003</td>\n",
              "      <td>0</td>\n",
              "      <td>98053</td>\n",
              "      <td>47.6857</td>\n",
              "      <td>-122.046</td>\n",
              "      <td>3370</td>\n",
              "      <td>6814</td>\n",
              "    </tr>\n",
              "    <tr>\n",
              "      <th>21603</th>\n",
              "      <td>7852140040</td>\n",
              "      <td>20140825T000000</td>\n",
              "      <td>507250</td>\n",
              "      <td>3</td>\n",
              "      <td>2.50</td>\n",
              "      <td>2270</td>\n",
              "      <td>5536</td>\n",
              "      <td>2.0</td>\n",
              "      <td>0</td>\n",
              "      <td>0</td>\n",
              "      <td>3</td>\n",
              "      <td>8</td>\n",
              "      <td>2270</td>\n",
              "      <td>0</td>\n",
              "      <td>2003</td>\n",
              "      <td>0</td>\n",
              "      <td>98065</td>\n",
              "      <td>47.5389</td>\n",
              "      <td>-121.881</td>\n",
              "      <td>2270</td>\n",
              "      <td>5731</td>\n",
              "    </tr>\n",
              "    <tr>\n",
              "      <th>21605</th>\n",
              "      <td>3448900210</td>\n",
              "      <td>20141014T000000</td>\n",
              "      <td>610685</td>\n",
              "      <td>4</td>\n",
              "      <td>2.50</td>\n",
              "      <td>2520</td>\n",
              "      <td>6023</td>\n",
              "      <td>2.0</td>\n",
              "      <td>0</td>\n",
              "      <td>0</td>\n",
              "      <td>3</td>\n",
              "      <td>9</td>\n",
              "      <td>2520</td>\n",
              "      <td>0</td>\n",
              "      <td>2014</td>\n",
              "      <td>0</td>\n",
              "      <td>98056</td>\n",
              "      <td>47.5137</td>\n",
              "      <td>-122.167</td>\n",
              "      <td>2520</td>\n",
              "      <td>6023</td>\n",
              "    </tr>\n",
              "    <tr>\n",
              "      <th>21606</th>\n",
              "      <td>7936000429</td>\n",
              "      <td>20150326T000000</td>\n",
              "      <td>1007500</td>\n",
              "      <td>4</td>\n",
              "      <td>3.50</td>\n",
              "      <td>3510</td>\n",
              "      <td>7200</td>\n",
              "      <td>2.0</td>\n",
              "      <td>0</td>\n",
              "      <td>0</td>\n",
              "      <td>3</td>\n",
              "      <td>9</td>\n",
              "      <td>2600</td>\n",
              "      <td>910</td>\n",
              "      <td>2009</td>\n",
              "      <td>0</td>\n",
              "      <td>98136</td>\n",
              "      <td>47.5537</td>\n",
              "      <td>-122.398</td>\n",
              "      <td>2050</td>\n",
              "      <td>6200</td>\n",
              "    </tr>\n",
              "    <tr>\n",
              "      <th>21609</th>\n",
              "      <td>6600060120</td>\n",
              "      <td>20150223T000000</td>\n",
              "      <td>400000</td>\n",
              "      <td>4</td>\n",
              "      <td>2.50</td>\n",
              "      <td>2310</td>\n",
              "      <td>5813</td>\n",
              "      <td>2.0</td>\n",
              "      <td>0</td>\n",
              "      <td>0</td>\n",
              "      <td>3</td>\n",
              "      <td>8</td>\n",
              "      <td>2310</td>\n",
              "      <td>0</td>\n",
              "      <td>2014</td>\n",
              "      <td>0</td>\n",
              "      <td>98146</td>\n",
              "      <td>47.5107</td>\n",
              "      <td>-122.362</td>\n",
              "      <td>1830</td>\n",
              "      <td>7200</td>\n",
              "    </tr>\n",
              "  </tbody>\n",
              "</table>\n",
              "<p>9111 rows × 21 columns</p>\n",
              "</div>"
            ],
            "text/plain": [
              "               id             date    price  ...     long  sqft_living15  sqft_lot15\n",
              "1      6414100192  20141209T000000   538000  ... -122.319           1690        7639\n",
              "10     1736800520  20150403T000000   662500  ... -122.145           2210        8925\n",
              "15     9297300055  20150124T000000   650000  ... -122.375           2140        4000\n",
              "21     2524049179  20140826T000000  2000000  ... -122.233           4110       20336\n",
              "22     7137970340  20140703T000000   285000  ... -122.169           2240        7005\n",
              "...           ...              ...      ...  ...      ...            ...         ...\n",
              "21599  7202300110  20140915T000000   810000  ... -122.046           3370        6814\n",
              "21603  7852140040  20140825T000000   507250  ... -121.881           2270        5731\n",
              "21605  3448900210  20141014T000000   610685  ... -122.167           2520        6023\n",
              "21606  7936000429  20150326T000000  1007500  ... -122.398           2050        6200\n",
              "21609  6600060120  20150223T000000   400000  ... -122.362           1830        7200\n",
              "\n",
              "[9111 rows x 21 columns]"
            ]
          },
          "metadata": {},
          "execution_count": 25
        }
      ]
    },
    {
      "cell_type": "code",
      "metadata": {
        "colab": {
          "base_uri": "https://localhost:8080/",
          "height": 297
        },
        "id": "-uI149fymhir",
        "outputId": "b9001b95-3af5-41df-e7f3-7c07a2e1515f"
      },
      "source": [
        "sns.histplot(filtered['sqft_living'])"
      ],
      "execution_count": null,
      "outputs": [
        {
          "output_type": "execute_result",
          "data": {
            "text/plain": [
              "<matplotlib.axes._subplots.AxesSubplot at 0x7fad11341210>"
            ]
          },
          "metadata": {},
          "execution_count": 29
        },
        {
          "output_type": "display_data",
          "data": {
            "image/png": "[encoded data removed]",
            "text/plain": [
              "<Figure size 432x288 with 1 Axes>"
            ]
          },
          "metadata": {
            "needs_background": "light"
          }
        }
      ]
    },
    {
      "cell_type": "code",
      "metadata": {
        "colab": {
          "base_uri": "https://localhost:8080/"
        },
        "id": "JGEYhNTsqpjv",
        "outputId": "5d539d5d-e456-4953-b3c2-1841ae136b33"
      },
      "source": [
        "#df.shape[0]=21613 %100 ise\n",
        "#filtered.shape[0]=9111 %x'dir\n",
        "x=(filtered.shape[0]*100)/df.shape[0]\n",
        "print(x,\"%\")"
      ],
      "execution_count": null,
      "outputs": [
        {
          "output_type": "stream",
          "name": "stdout",
          "text": [
            "42.155184379771434 %\n"
          ]
        }
      ]
    },
    {
      "cell_type": "markdown",
      "metadata": {
        "id": "-O5OxyFWwoBj"
      },
      "source": [
        "#Lineer Regresyon"
      ]
    },
    {
      "cell_type": "markdown",
      "metadata": {
        "id": "nkhZrrjbOtgp"
      },
      "source": [
        "##Basit Doğrusal Regresyon Modeli"
      ]
    },
    {
      "cell_type": "markdown",
      "metadata": {
        "id": "ptOqJrTODBks"
      },
      "source": [
        "Bu bölümde sadece m2 bilgisiyle fiyat tahmin eden bir basit regresyon modeli  oluşturacağız."
      ]
    },
    {
      "cell_type": "markdown",
      "metadata": {
        "id": "qleMyEL-hj1r"
      },
      "source": [
        "Doğrusal regresyon modelinin oluşturulması"
      ]
    },
    {
      "cell_type": "code",
      "metadata": {
        "id": "GPnak271NK6W"
      },
      "source": [
        "from sklearn.linear_model import LinearRegression\n",
        "lr = LinearRegression()"
      ],
      "execution_count": null,
      "outputs": []
    },
    {
      "cell_type": "markdown",
      "metadata": {
        "id": "sVxGpB-3hpJC"
      },
      "source": [
        "Fiyat ve m2 kolonunun belirlenmesi"
      ]
    },
    {
      "cell_type": "code",
      "metadata": {
        "colab": {
          "base_uri": "https://localhost:8080/"
        },
        "id": "rx8xeu6Ifuv_",
        "outputId": "fd5d7120-b4ec-4dc6-b4e4-2a1e1382c54a"
      },
      "source": [
        "df.columns"
      ],
      "execution_count": null,
      "outputs": [
        {
          "output_type": "execute_result",
          "data": {
            "text/plain": [
              "Index(['id', 'date', 'price', 'bedrooms', 'bathrooms', 'sqft_living',\n",
              "       'sqft_lot', 'floors', 'waterfront', 'view', 'condition', 'grade',\n",
              "       'sqft_above', 'sqft_basement', 'yr_built', 'yr_renovated', 'zipcode',\n",
              "       'lat', 'long', 'sqft_living15', 'sqft_lot15'],\n",
              "      dtype='object')"
            ]
          },
          "metadata": {},
          "execution_count": 30
        }
      ]
    },
    {
      "cell_type": "markdown",
      "metadata": {
        "id": "0zc3JcgzgNRX"
      },
      "source": [
        "Veriden m2 ve fiyat bilgisinin çekilmesi"
      ]
    },
    {
      "cell_type": "code",
      "metadata": {
        "id": "tyFGHLKhNjkJ"
      },
      "source": [
        "X = df.iloc[:,[5]].values#m2\n",
        "y = df.iloc[:, [2]].values#fiyat"
      ],
      "execution_count": null,
      "outputs": []
    },
    {
      "cell_type": "code",
      "metadata": {
        "colab": {
          "base_uri": "https://localhost:8080/"
        },
        "id": "PIsEq1qWgxMS",
        "outputId": "7c393598-f4e8-49ab-c1ab-fcb78b9c15f4"
      },
      "source": [
        "X"
      ],
      "execution_count": null,
      "outputs": [
        {
          "output_type": "execute_result",
          "data": {
            "text/plain": [
              "array([[1180],\n",
              "       [2570],\n",
              "       [ 770],\n",
              "       ...,\n",
              "       [1020],\n",
              "       [1600],\n",
              "       [1020]])"
            ]
          },
          "metadata": {},
          "execution_count": 33
        }
      ]
    },
    {
      "cell_type": "code",
      "metadata": {
        "colab": {
          "base_uri": "https://localhost:8080/"
        },
        "id": "3ZF2LoZ8gyk7",
        "outputId": "6da3dbd7-676a-4464-e2e6-e06db3165f54"
      },
      "source": [
        "y"
      ],
      "execution_count": null,
      "outputs": [
        {
          "output_type": "execute_result",
          "data": {
            "text/plain": [
              "array([[221900],\n",
              "       [538000],\n",
              "       [180000],\n",
              "       ...,\n",
              "       [402101],\n",
              "       [400000],\n",
              "       [325000]])"
            ]
          },
          "metadata": {},
          "execution_count": 35
        }
      ]
    },
    {
      "cell_type": "markdown",
      "metadata": {
        "id": "o4BDhaB7g2_c"
      },
      "source": [
        "X ve y değerleri arasında büyük fark var modelin düzgün çalışabilmesi için bu farkı standartlaştırmak gereklidir."
      ]
    },
    {
      "cell_type": "code",
      "metadata": {
        "id": "4UIwaN4Zg2YV"
      },
      "source": [
        "from sklearn.preprocessing import StandardScaler\n",
        "sc_X = StandardScaler()\n",
        "X_std = sc_X.fit_transform(X)\n",
        "y_std=sc_X.fit_transform(y)"
      ],
      "execution_count": null,
      "outputs": []
    },
    {
      "cell_type": "code",
      "metadata": {
        "colab": {
          "base_uri": "https://localhost:8080/"
        },
        "id": "TwgMLwOshK_R",
        "outputId": "2ab41bbc-49da-4504-c8aa-ceba1c03b014"
      },
      "source": [
        "X_std"
      ],
      "execution_count": null,
      "outputs": [
        {
          "output_type": "execute_result",
          "data": {
            "text/plain": [
              "array([[-0.97983502],\n",
              "       [ 0.53363434],\n",
              "       [-1.42625404],\n",
              "       ...,\n",
              "       [-1.15404732],\n",
              "       [-0.52252773],\n",
              "       [-1.15404732]])"
            ]
          },
          "metadata": {},
          "execution_count": 37
        }
      ]
    },
    {
      "cell_type": "code",
      "metadata": {
        "colab": {
          "base_uri": "https://localhost:8080/"
        },
        "id": "MyKReVD7hM6f",
        "outputId": "a12db7bd-a203-4eb2-8424-719c945cfb34"
      },
      "source": [
        "y_std"
      ],
      "execution_count": null,
      "outputs": [
        {
          "output_type": "execute_result",
          "data": {
            "text/plain": [
              "array([[-0.86671733],\n",
              "       [-0.00568792],\n",
              "       [-0.98084935],\n",
              "       ...,\n",
              "       [-0.37586519],\n",
              "       [-0.38158814],\n",
              "       [-0.58588173]])"
            ]
          },
          "metadata": {},
          "execution_count": 38
        }
      ]
    },
    {
      "cell_type": "markdown",
      "metadata": {
        "id": "eV1vk3YOhO-u"
      },
      "source": [
        "X ve y değerleri standart aralığa getirildi."
      ]
    },
    {
      "cell_type": "markdown",
      "metadata": {
        "id": "ZbrPOwRlgWu4"
      },
      "source": [
        "X ve y'nin eğitim ve test veri seti olarak bölünmesi"
      ]
    },
    {
      "cell_type": "code",
      "metadata": {
        "id": "PxWDFAvgYd46"
      },
      "source": [
        "from sklearn.model_selection import train_test_split\n",
        "X_train, X_test, y_train, y_test = train_test_split(X_std, y_std, test_size=0.2, random_state=0)"
      ],
      "execution_count": null,
      "outputs": []
    },
    {
      "cell_type": "markdown",
      "metadata": {
        "id": "7bfyS9D2hW0k"
      },
      "source": [
        "Modelin X eğitim veri seitne uydurulması"
      ]
    },
    {
      "cell_type": "code",
      "metadata": {
        "colab": {
          "base_uri": "https://localhost:8080/"
        },
        "id": "zcf20Qt9Y-iI",
        "outputId": "e059ce65-7109-4fbb-e619-d92604780f77"
      },
      "source": [
        "lr.fit(X_train,y_train)"
      ],
      "execution_count": null,
      "outputs": [
        {
          "output_type": "execute_result",
          "data": {
            "text/plain": [
              "LinearRegression(copy_X=True, fit_intercept=True, n_jobs=None, normalize=False)"
            ]
          },
          "metadata": {},
          "execution_count": 43
        }
      ]
    },
    {
      "cell_type": "markdown",
      "metadata": {
        "id": "iiPS6KZphw63"
      },
      "source": [
        "Modelin Tahmini"
      ]
    },
    {
      "cell_type": "code",
      "metadata": {
        "id": "VhQnhQCCblc9"
      },
      "source": [
        "y_pred = lr.predict(X_test)"
      ],
      "execution_count": null,
      "outputs": []
    },
    {
      "cell_type": "markdown",
      "metadata": {
        "id": "KO17JIU2kADL"
      },
      "source": [
        "RMSE Hatasının hesaplanması"
      ]
    },
    {
      "cell_type": "code",
      "metadata": {
        "colab": {
          "base_uri": "https://localhost:8080/"
        },
        "id": "kY3Z_HBKePyq",
        "outputId": "c65498b7-1fdd-47bf-cf84-234a9b2efb72"
      },
      "source": [
        "from sklearn import metrics\n",
        "print('Root Mean Squared Error:', np.sqrt(metrics.mean_squared_error(y_test, y_pred)))"
      ],
      "execution_count": null,
      "outputs": [
        {
          "output_type": "stream",
          "name": "stdout",
          "text": [
            "Root Mean Squared Error: 0.6779253130619914\n"
          ]
        }
      ]
    },
    {
      "cell_type": "markdown",
      "metadata": {
        "id": "HVf6khRykC6w"
      },
      "source": [
        "Model Katsayılarının yazdırılması"
      ]
    },
    {
      "cell_type": "code",
      "metadata": {
        "colab": {
          "base_uri": "https://localhost:8080/"
        },
        "id": "vD9PDVnpeafR",
        "outputId": "67a53538-ecd5-4a11-9321-28afab4ef8d7"
      },
      "source": [
        " #y=b0+b1x\n",
        " print('b0:', lr.intercept_)#b0\n",
        " print('b1:', lr.coef_)#b1"
      ],
      "execution_count": null,
      "outputs": [
        {
          "output_type": "stream",
          "name": "stdout",
          "text": [
            "b0: [0.00621304]\n",
            "b1: [[0.7104032]]\n"
          ]
        }
      ]
    },
    {
      "cell_type": "markdown",
      "metadata": {
        "id": "hygeZRuhkGoz"
      },
      "source": [
        "Modelin çizdirilmesi"
      ]
    },
    {
      "cell_type": "code",
      "metadata": {
        "colab": {
          "base_uri": "https://localhost:8080/",
          "height": 312
        },
        "id": "Gnry0_MajaKv",
        "outputId": "4a8a5f80-8200-46d3-a40b-813393133cf1"
      },
      "source": [
        "plt.scatter(X_test,y_test)\n",
        "plt.plot(X_test,y_pred,c='r',linewidth=2)\n",
        "plt.xlabel(\"sqft\")\n",
        "plt.ylabel(\"price\")\n",
        "plt.title(\"Doğrusal Regresyon Modeli\")"
      ],
      "execution_count": null,
      "outputs": [
        {
          "output_type": "execute_result",
          "data": {
            "text/plain": [
              "Text(0.5, 1.0, 'Doğrusal Regresyon Modeli')"
            ]
          },
          "metadata": {},
          "execution_count": 63
        },
        {
          "output_type": "display_data",
          "data": {
            "image/png": "[encoded data removed]",
            "text/plain": [
              "<Figure size 432x288 with 1 Axes>"
            ]
          },
          "metadata": {
            "needs_background": "light"
          }
        }
      ]
    },
    {
      "cell_type": "markdown",
      "metadata": {
        "id": "tP-10KgvCM3C"
      },
      "source": [
        "##Gelişmiş özellikler kullanan Doğrusal Regresyon Modeli "
      ]
    },
    {
      "cell_type": "markdown",
      "metadata": {
        "id": "co1hun1wDP4X"
      },
      "source": [
        "Bu bölümde verideki tüm özellikleri kullanarak regresyon modeli  oluşturacağız."
      ]
    },
    {
      "cell_type": "markdown",
      "metadata": {
        "id": "XIWw66szle5B"
      },
      "source": [
        "Doğrusal Regresyon Modelinin Oluşturulması"
      ]
    },
    {
      "cell_type": "code",
      "metadata": {
        "id": "CXlvGOhLoUvZ"
      },
      "source": [
        "import pandas as pd\n",
        "import numpy as np\n",
        "import matplotlib.pyplot as plt\n"
      ],
      "execution_count": null,
      "outputs": []
    },
    {
      "cell_type": "code",
      "metadata": {
        "id": "gpsro_wlA8fW"
      },
      "source": [
        "from sklearn.linear_model import LinearRegression\n",
        "linReg=LinearRegression()"
      ],
      "execution_count": null,
      "outputs": []
    },
    {
      "cell_type": "markdown",
      "metadata": {
        "id": "dlkqUvgqv7aD"
      },
      "source": [
        "Veriyi tekrar okuyalım"
      ]
    },
    {
      "cell_type": "code",
      "metadata": {
        "id": "T2udQhf0oEUI"
      },
      "source": [
        "df=pd.read_csv(\"home_data.csv\")"
      ],
      "execution_count": null,
      "outputs": []
    },
    {
      "cell_type": "code",
      "metadata": {
        "colab": {
          "base_uri": "https://localhost:8080/"
        },
        "id": "d8mBJDK9oBki",
        "outputId": "1edecaa5-1012-4f2a-ab45-0055fd3983a5"
      },
      "source": [
        "df.columns"
      ],
      "execution_count": null,
      "outputs": [
        {
          "output_type": "execute_result",
          "data": {
            "text/plain": [
              "Index(['id', 'date', 'price', 'bedrooms', 'bathrooms', 'sqft_living',\n",
              "       'sqft_lot', 'floors', 'waterfront', 'view', 'condition', 'grade',\n",
              "       'sqft_above', 'sqft_basement', 'yr_built', 'yr_renovated', 'zipcode',\n",
              "       'lat', 'long', 'sqft_living15', 'sqft_lot15'],\n",
              "      dtype='object')"
            ]
          },
          "metadata": {},
          "execution_count": 7
        }
      ]
    },
    {
      "cell_type": "markdown",
      "metadata": {
        "id": "-1eSbg2tv_MC"
      },
      "source": [
        "X değerleri id ,date ve price hariç bütün özelliklerden oluşacak. y değerleri ise fiyat bilgisi içeriyor"
      ]
    },
    {
      "cell_type": "code",
      "metadata": {
        "id": "_pGrI6ujleC6"
      },
      "source": [
        "X = df.iloc[:,3:].values# id ,date ve price hariç bütün özellikler\n",
        "y = df.iloc[:, [2]].values#fiyat"
      ],
      "execution_count": null,
      "outputs": []
    },
    {
      "cell_type": "markdown",
      "metadata": {
        "id": "l93zmiBlwI-g"
      },
      "source": [
        "X ve y değerleri standart bir aralığa çektim"
      ]
    },
    {
      "cell_type": "code",
      "metadata": {
        "id": "DsP4xL9so-37"
      },
      "source": [
        "from sklearn.preprocessing import StandardScaler\n",
        "sc_X = StandardScaler()\n",
        "X_std = sc_X.fit_transform(X)\n",
        "y_std=sc_X.fit_transform(y)"
      ],
      "execution_count": null,
      "outputs": []
    },
    {
      "cell_type": "markdown",
      "metadata": {
        "id": "5E3sp7FVwM83"
      },
      "source": [
        "Eğitim ve test veri setinin ayrılması"
      ]
    },
    {
      "cell_type": "code",
      "metadata": {
        "id": "U862WXsOBP9A"
      },
      "source": [
        "from sklearn.model_selection import train_test_split\n",
        "X_train, X_test, y_train, y_test = train_test_split(X_std, y_std, test_size=0.2, random_state=0)"
      ],
      "execution_count": null,
      "outputs": []
    },
    {
      "cell_type": "markdown",
      "metadata": {
        "id": "PeKfkpnLwQTI"
      },
      "source": [
        "Eğitim veri kümesinin modele uydurulması"
      ]
    },
    {
      "cell_type": "code",
      "metadata": {
        "colab": {
          "base_uri": "https://localhost:8080/"
        },
        "id": "rnqvWEyHBWzz",
        "outputId": "e2f85398-bd32-4684-b1af-bc07caec3ad0"
      },
      "source": [
        "linReg.fit(X_train,y_train)"
      ],
      "execution_count": null,
      "outputs": [
        {
          "output_type": "execute_result",
          "data": {
            "text/plain": [
              "LinearRegression(copy_X=True, fit_intercept=True, n_jobs=None, normalize=False)"
            ]
          },
          "metadata": {},
          "execution_count": 19
        }
      ]
    },
    {
      "cell_type": "markdown",
      "metadata": {
        "id": "opZkITdGwatQ"
      },
      "source": [
        "Modelin test veri seti üzerinde tahminlemesi"
      ]
    },
    {
      "cell_type": "code",
      "metadata": {
        "id": "UEDS5pPWCcKg"
      },
      "source": [
        "y_pred = linReg.predict(X_test)"
      ],
      "execution_count": null,
      "outputs": []
    },
    {
      "cell_type": "markdown",
      "metadata": {
        "id": "4hAZ22uDwf1x"
      },
      "source": [
        "RMSE hatasının hesaplanması"
      ]
    },
    {
      "cell_type": "code",
      "metadata": {
        "colab": {
          "base_uri": "https://localhost:8080/"
        },
        "id": "66jcWmlaCxL8",
        "outputId": "9ace1f6a-389d-45f6-da32-ae3e89e419f5"
      },
      "source": [
        "from sklearn import metrics\n",
        "print('Root Mean Squared Error:', np.sqrt(metrics.mean_squared_error(y_test, y_pred)))"
      ],
      "execution_count": null,
      "outputs": [
        {
          "output_type": "stream",
          "name": "stdout",
          "text": [
            "Root Mean Squared Error: 0.5188241623042399\n"
          ]
        }
      ]
    },
    {
      "cell_type": "markdown",
      "metadata": {
        "id": "mfNG3JpgwjfQ"
      },
      "source": [
        "###Sonuç"
      ]
    },
    {
      "cell_type": "markdown",
      "metadata": {
        "id": "q1P0987HuxmW"
      },
      "source": [
        "Basit Regresyon modelinde sadece m2 özelliğini kullanarak basit regresyon modelinde fiyat tahmini yaptım . Bu modelin RMSE hatası : 0.678 çıktmıştı. Şimdi ise verideki diğer özellekleri de kullanarak (yatak odası,banyo vb.) eğittiğim modelin RMSE hatası 0.5189 çıktı. Bu sonuç bize sadece m2 fiyatı ile ev tahmini yapmanın riskli olduğunu gösteriyor. Daha fazla özellik kullandığımızda hata azalmakta"
      ]
    },
    {
      "cell_type": "markdown",
      "metadata": {
        "id": "DO1HBqMWUBFq"
      },
      "source": [
        "#Polinomal Regresyon "
      ]
    },
    {
      "cell_type": "markdown",
      "metadata": {
        "id": "tHb3Dfiy2rEI"
      },
      "source": [
        "## Basit Polinomal regresyon (2.Derece)"
      ]
    },
    {
      "cell_type": "markdown",
      "metadata": {
        "id": "mgT6Pe1dA8u8"
      },
      "source": [
        "Bu bölümde sadece m2 bilgisiyle fiyat tahmin eden bir 2. dereceden bir polinomal model oluşturdum."
      ]
    },
    {
      "cell_type": "markdown",
      "metadata": {
        "id": "Qwugo8VHCCnR"
      },
      "source": [
        "Bazı önemli kütüphanelerin içe aktarılması"
      ]
    },
    {
      "cell_type": "code",
      "metadata": {
        "id": "JrpT1DbFIpOz"
      },
      "source": [
        "import numpy as np\n",
        "import matplotlib.pyplot as plt\n",
        "import pandas as pd"
      ],
      "execution_count": null,
      "outputs": []
    },
    {
      "cell_type": "markdown",
      "metadata": {
        "id": "CBk1IzZ-CJWR"
      },
      "source": [
        "Verinin okunması"
      ]
    },
    {
      "cell_type": "code",
      "metadata": {
        "id": "GCoRjByV2yem"
      },
      "source": [
        "df = pd.read_csv('home_data.csv')"
      ],
      "execution_count": null,
      "outputs": []
    },
    {
      "cell_type": "code",
      "metadata": {
        "colab": {
          "base_uri": "https://localhost:8080/"
        },
        "id": "P09Mn0epCMbB",
        "outputId": "42f0a6ec-73d1-470a-c7fc-e433e907ad49"
      },
      "source": [
        "df.columns"
      ],
      "execution_count": null,
      "outputs": [
        {
          "output_type": "execute_result",
          "data": {
            "text/plain": [
              "Index(['id', 'date', 'price', 'bedrooms', 'bathrooms', 'sqft_living',\n",
              "       'sqft_lot', 'floors', 'waterfront', 'view', 'condition', 'grade',\n",
              "       'sqft_above', 'sqft_basement', 'yr_built', 'yr_renovated', 'zipcode',\n",
              "       'lat', 'long', 'sqft_living15', 'sqft_lot15'],\n",
              "      dtype='object')"
            ]
          },
          "metadata": {},
          "execution_count": 7
        }
      ]
    },
    {
      "cell_type": "markdown",
      "metadata": {
        "id": "hI7TsUQwCPA_"
      },
      "source": [
        "Verideki sqft ve price kolonuna sayısal indeksle ulaşılması"
      ]
    },
    {
      "cell_type": "code",
      "metadata": {
        "id": "QNULuJ-s3dcj"
      },
      "source": [
        "X = df.iloc[:,[5]].values\n",
        "y = df.iloc[:, [2]].values"
      ],
      "execution_count": null,
      "outputs": []
    },
    {
      "cell_type": "markdown",
      "metadata": {
        "id": "gT9_0XqhCdYU"
      },
      "source": [
        "X ve y değerleri arasında çok büyük bir fark olduğu için bunları standart bir aralığa çekmemiz gerekiyor"
      ]
    },
    {
      "cell_type": "code",
      "metadata": {
        "id": "s8BvfZdb3yx1"
      },
      "source": [
        "from sklearn.preprocessing import StandardScaler\n",
        "sc_X = StandardScaler()\n",
        "X_std = sc_X.fit_transform(X)"
      ],
      "execution_count": null,
      "outputs": []
    },
    {
      "cell_type": "code",
      "metadata": {
        "id": "Q5npve9X4EDG"
      },
      "source": [
        "from sklearn.preprocessing import StandardScaler\n",
        "sc_X = StandardScaler()\n",
        "y_std = sc_X.fit_transform(y)"
      ],
      "execution_count": null,
      "outputs": []
    },
    {
      "cell_type": "markdown",
      "metadata": {
        "id": "tuUIBMoACrz2"
      },
      "source": [
        "Eğitim ve test veri setinin oluşturulması"
      ]
    },
    {
      "cell_type": "code",
      "metadata": {
        "id": "GhGjU9Ml4ZBq"
      },
      "source": [
        "from sklearn.model_selection import train_test_split\n",
        "X_train ,X_test, y_train ,y_test = train_test_split(X_std, y_std, test_size=0.2, random_state = 0)"
      ],
      "execution_count": null,
      "outputs": []
    },
    {
      "cell_type": "markdown",
      "metadata": {
        "id": "Wxh8ZAPcCvd1"
      },
      "source": [
        "Test veri setindeki dağılım"
      ]
    },
    {
      "cell_type": "code",
      "metadata": {
        "colab": {
          "base_uri": "https://localhost:8080/",
          "height": 282
        },
        "id": "bqGRIfTh4iZn",
        "outputId": "8302edc2-be62-4875-bb49-592a5dd32a85"
      },
      "source": [
        "plt.scatter(X_test,y_test)"
      ],
      "execution_count": null,
      "outputs": [
        {
          "output_type": "execute_result",
          "data": {
            "text/plain": [
              "<matplotlib.collections.PathCollection at 0x7fcbd6e33290>"
            ]
          },
          "metadata": {},
          "execution_count": 15
        },
        {
          "output_type": "display_data",
          "data": {
            "image/png": "[encoded data removed]",
            "text/plain": [
              "<Figure size 432x288 with 1 Axes>"
            ]
          },
          "metadata": {
            "needs_background": "light"
          }
        }
      ]
    },
    {
      "cell_type": "markdown",
      "metadata": {
        "id": "biOeiC6EC38S"
      },
      "source": [
        "Polinomal Regresyon Modelinin oluşturulması ve eğitim verisetine uydurulması"
      ]
    },
    {
      "cell_type": "code",
      "metadata": {
        "colab": {
          "base_uri": "https://localhost:8080/"
        },
        "id": "zv6RisBK4pfu",
        "outputId": "d6e6bbab-4c95-43d0-9d65-ddef44b9620e"
      },
      "source": [
        "from sklearn.preprocessing import PolynomialFeatures\n",
        "poly_reg = PolynomialFeatures(degree=2)\n",
        "X_poly= poly_reg.fit_transform(X_train)\n",
        "from sklearn.linear_model import LinearRegression\n",
        "lin_reg=LinearRegression()\n",
        "lin_reg.fit(X_poly,y_train)"
      ],
      "execution_count": null,
      "outputs": [
        {
          "output_type": "execute_result",
          "data": {
            "text/plain": [
              "LinearRegression(copy_X=True, fit_intercept=True, n_jobs=None, normalize=False)"
            ]
          },
          "metadata": {},
          "execution_count": 16
        }
      ]
    },
    {
      "cell_type": "markdown",
      "metadata": {
        "id": "5oMF-K0xDDoR"
      },
      "source": [
        "Test veri seti üzerinde tahminleme yapılması"
      ]
    },
    {
      "cell_type": "code",
      "metadata": {
        "id": "g_lm_p6G44BQ"
      },
      "source": [
        "from sklearn.preprocessing import PolynomialFeatures\n",
        "poly_reg = PolynomialFeatures(degree=2)\n",
        "X_polyt=poly_reg.fit_transform(X_test)\n",
        "y_pred = lin_reg.predict(X_polyt)"
      ],
      "execution_count": null,
      "outputs": []
    },
    {
      "cell_type": "markdown",
      "metadata": {
        "id": "Y7IcclkBDKaj"
      },
      "source": [
        "Modelin görselleştirlmesi"
      ]
    },
    {
      "cell_type": "code",
      "metadata": {
        "colab": {
          "base_uri": "https://localhost:8080/",
          "height": 282
        },
        "id": "id7BbzHC5N7H",
        "outputId": "1f3c5f0f-3efc-4036-e12a-99e33d8b8a48"
      },
      "source": [
        "plt.scatter(X_test,y_test)\n",
        "plt.scatter(X_test,y_pred,c='r')"
      ],
      "execution_count": null,
      "outputs": [
        {
          "output_type": "execute_result",
          "data": {
            "text/plain": [
              "<matplotlib.collections.PathCollection at 0x7fcbcb4d7f50>"
            ]
          },
          "metadata": {},
          "execution_count": 21
        },
        {
          "output_type": "display_data",
          "data": {
            "image/png": "[encoded data removed]",
            "text/plain": [
              "<Figure size 432x288 with 1 Axes>"
            ]
          },
          "metadata": {
            "needs_background": "light"
          }
        }
      ]
    },
    {
      "cell_type": "markdown",
      "metadata": {
        "id": "YzjCqUWFDPPE"
      },
      "source": [
        "RMSE Hatasının hesaplanması"
      ]
    },
    {
      "cell_type": "code",
      "metadata": {
        "colab": {
          "base_uri": "https://localhost:8080/"
        },
        "id": "eiUYFAub6NEV",
        "outputId": "37729251-f98b-4174-acaa-0d2ffca0385c"
      },
      "source": [
        "from sklearn import metrics\n",
        "print('Root Mean Squared Error:', np.sqrt(metrics.mean_squared_error(y_test,y_pred)))"
      ],
      "execution_count": null,
      "outputs": [
        {
          "output_type": "stream",
          "name": "stdout",
          "text": [
            "Root Mean Squared Error: 0.6544804695761719\n"
          ]
        }
      ]
    },
    {
      "cell_type": "markdown",
      "metadata": {
        "id": "8EuZbBgMDSsN"
      },
      "source": [
        "ID numarası: 1925069082 olan eve veri seti içerisnde ulaşılması"
      ]
    },
    {
      "cell_type": "code",
      "metadata": {
        "colab": {
          "base_uri": "https://localhost:8080/",
          "height": 100
        },
        "id": "j-Z1-T-X_WgL",
        "outputId": "ab81f773-d4ac-4fc3-c10d-82625fffd240"
      },
      "source": [
        "a=df[df['id']==1925069082]\n",
        "a"
      ],
      "execution_count": null,
      "outputs": [
        {
          "output_type": "execute_result",
          "data": {
            "text/html": [
              "<div>\n",
              "<style scoped>\n",
              "    .dataframe tbody tr th:only-of-type {\n",
              "        vertical-align: middle;\n",
              "    }\n",
              "\n",
              "    .dataframe tbody tr th {\n",
              "        vertical-align: top;\n",
              "    }\n",
              "\n",
              "    .dataframe thead th {\n",
              "        text-align: right;\n",
              "    }\n",
              "</style>\n",
              "<table border=\"1\" class=\"dataframe\">\n",
              "  <thead>\n",
              "    <tr style=\"text-align: right;\">\n",
              "      <th></th>\n",
              "      <th>id</th>\n",
              "      <th>date</th>\n",
              "      <th>price</th>\n",
              "      <th>bedrooms</th>\n",
              "      <th>bathrooms</th>\n",
              "      <th>sqft_living</th>\n",
              "      <th>sqft_lot</th>\n",
              "      <th>floors</th>\n",
              "      <th>waterfront</th>\n",
              "      <th>view</th>\n",
              "      <th>condition</th>\n",
              "      <th>grade</th>\n",
              "      <th>sqft_above</th>\n",
              "      <th>sqft_basement</th>\n",
              "      <th>yr_built</th>\n",
              "      <th>yr_renovated</th>\n",
              "      <th>zipcode</th>\n",
              "      <th>lat</th>\n",
              "      <th>long</th>\n",
              "      <th>sqft_living15</th>\n",
              "      <th>sqft_lot15</th>\n",
              "    </tr>\n",
              "  </thead>\n",
              "  <tbody>\n",
              "    <tr>\n",
              "      <th>1361</th>\n",
              "      <td>1925069082</td>\n",
              "      <td>20150511T000000</td>\n",
              "      <td>2200000</td>\n",
              "      <td>5</td>\n",
              "      <td>4.25</td>\n",
              "      <td>4640</td>\n",
              "      <td>22703</td>\n",
              "      <td>2.0</td>\n",
              "      <td>1</td>\n",
              "      <td>4</td>\n",
              "      <td>5</td>\n",
              "      <td>8</td>\n",
              "      <td>2860</td>\n",
              "      <td>1780</td>\n",
              "      <td>1952</td>\n",
              "      <td>0</td>\n",
              "      <td>98052</td>\n",
              "      <td>47.6393</td>\n",
              "      <td>-122.097</td>\n",
              "      <td>3140</td>\n",
              "      <td>14200</td>\n",
              "    </tr>\n",
              "  </tbody>\n",
              "</table>\n",
              "</div>"
            ],
            "text/plain": [
              "              id             date    price  ...     long  sqft_living15  sqft_lot15\n",
              "1361  1925069082  20150511T000000  2200000  ... -122.097           3140       14200\n",
              "\n",
              "[1 rows x 21 columns]"
            ]
          },
          "metadata": {},
          "execution_count": 52
        }
      ]
    },
    {
      "cell_type": "markdown",
      "metadata": {
        "id": "HTXDzbW0DcRv"
      },
      "source": [
        "ID numarası 1925069082 olan evin m2 özelliği iile fiyatının tahmin edilmesi "
      ]
    },
    {
      "cell_type": "code",
      "metadata": {
        "colab": {
          "base_uri": "https://localhost:8080/"
        },
        "id": "6g21gpGIBJpT",
        "outputId": "14b3b49a-b7eb-4b91-efb5-32f25a92eb27"
      },
      "source": [
        "y_new = lin_reg.predict(poly_reg.fit_transform([[4640]]))\n",
        "y_new"
      ],
      "execution_count": null,
      "outputs": [
        {
          "output_type": "execute_result",
          "data": {
            "text/plain": [
              "array([[1894459.97291057]])"
            ]
          },
          "metadata": {},
          "execution_count": 55
        }
      ]
    },
    {
      "cell_type": "markdown",
      "metadata": {
        "id": "IxxUwdq8DlCa"
      },
      "source": [
        "Gerçek fiyat değeriyle tahminlenen fiyat arasındaki fark: 305540.02708943"
      ]
    },
    {
      "cell_type": "code",
      "metadata": {
        "colab": {
          "base_uri": "https://localhost:8080/"
        },
        "id": "ZCctmwhJBtiR",
        "outputId": "a4856078-d9ba-4c52-8a09-30391987c616"
      },
      "source": [
        "2200000-1894459.97291057"
      ],
      "execution_count": null,
      "outputs": [
        {
          "output_type": "execute_result",
          "data": {
            "text/plain": [
              "305540.02708943"
            ]
          },
          "metadata": {},
          "execution_count": 5
        }
      ]
    },
    {
      "cell_type": "markdown",
      "metadata": {
        "id": "BMKt9jYgDrVI"
      },
      "source": [
        "ID numarası: 5309101200 olan eve veri seti içerisnden ulaşılması"
      ]
    },
    {
      "cell_type": "code",
      "metadata": {
        "colab": {
          "base_uri": "https://localhost:8080/",
          "height": 100
        },
        "id": "GfTy_p0-AgNM",
        "outputId": "38f652b8-31c7-4951-eb61-34b94fc4d6d7"
      },
      "source": [
        "b=df[df['id']==5309101200]\n",
        "b"
      ],
      "execution_count": null,
      "outputs": [
        {
          "output_type": "execute_result",
          "data": {
            "text/html": [
              "<div>\n",
              "<style scoped>\n",
              "    .dataframe tbody tr th:only-of-type {\n",
              "        vertical-align: middle;\n",
              "    }\n",
              "\n",
              "    .dataframe tbody tr th {\n",
              "        vertical-align: top;\n",
              "    }\n",
              "\n",
              "    .dataframe thead th {\n",
              "        text-align: right;\n",
              "    }\n",
              "</style>\n",
              "<table border=\"1\" class=\"dataframe\">\n",
              "  <thead>\n",
              "    <tr style=\"text-align: right;\">\n",
              "      <th></th>\n",
              "      <th>id</th>\n",
              "      <th>date</th>\n",
              "      <th>price</th>\n",
              "      <th>bedrooms</th>\n",
              "      <th>bathrooms</th>\n",
              "      <th>sqft_living</th>\n",
              "      <th>sqft_lot</th>\n",
              "      <th>floors</th>\n",
              "      <th>waterfront</th>\n",
              "      <th>view</th>\n",
              "      <th>condition</th>\n",
              "      <th>grade</th>\n",
              "      <th>sqft_above</th>\n",
              "      <th>sqft_basement</th>\n",
              "      <th>yr_built</th>\n",
              "      <th>yr_renovated</th>\n",
              "      <th>zipcode</th>\n",
              "      <th>lat</th>\n",
              "      <th>long</th>\n",
              "      <th>sqft_living15</th>\n",
              "      <th>sqft_lot15</th>\n",
              "    </tr>\n",
              "  </thead>\n",
              "  <tbody>\n",
              "    <tr>\n",
              "      <th>1054</th>\n",
              "      <td>5309101200</td>\n",
              "      <td>20140605T000000</td>\n",
              "      <td>620000</td>\n",
              "      <td>4</td>\n",
              "      <td>2.25</td>\n",
              "      <td>2400</td>\n",
              "      <td>5350</td>\n",
              "      <td>1.5</td>\n",
              "      <td>0</td>\n",
              "      <td>0</td>\n",
              "      <td>4</td>\n",
              "      <td>7</td>\n",
              "      <td>1460</td>\n",
              "      <td>940</td>\n",
              "      <td>1929</td>\n",
              "      <td>0</td>\n",
              "      <td>98117</td>\n",
              "      <td>47.6763</td>\n",
              "      <td>-122.37</td>\n",
              "      <td>1250</td>\n",
              "      <td>4880</td>\n",
              "    </tr>\n",
              "  </tbody>\n",
              "</table>\n",
              "</div>"
            ],
            "text/plain": [
              "              id             date   price  ...    long  sqft_living15  sqft_lot15\n",
              "1054  5309101200  20140605T000000  620000  ... -122.37           1250        4880\n",
              "\n",
              "[1 rows x 21 columns]"
            ]
          },
          "metadata": {},
          "execution_count": 53
        }
      ]
    },
    {
      "cell_type": "markdown",
      "metadata": {
        "id": "Qj0xyycLD_ts"
      },
      "source": [
        "ID numarası 5309101200\t olan evin m2 özelliği iile fiyatının tahmin edilmesi "
      ]
    },
    {
      "cell_type": "code",
      "metadata": {
        "colab": {
          "base_uri": "https://localhost:8080/"
        },
        "id": "B-r8iXtWA02J",
        "outputId": "f1e9b764-77d2-4403-90d3-38b20db0d2fe"
      },
      "source": [
        "y_new1= lin_reg.predict(poly_reg.fit_transform([[2400]]))\n",
        "y_new1"
      ],
      "execution_count": null,
      "outputs": [
        {
          "output_type": "execute_result",
          "data": {
            "text/plain": [
              "array([[507510.49807911]])"
            ]
          },
          "metadata": {},
          "execution_count": 57
        }
      ]
    },
    {
      "cell_type": "markdown",
      "metadata": {
        "id": "zOrQgSmNEC9U"
      },
      "source": [
        "Gerçek fiyat değeriyle tahminlenen fiyat arasındaki fark: 112489.50192089"
      ]
    },
    {
      "cell_type": "code",
      "metadata": {
        "colab": {
          "base_uri": "https://localhost:8080/"
        },
        "id": "2SkYlzMlBzHV",
        "outputId": "c35bdecb-4a55-4eec-cf39-a76dbc5e7547"
      },
      "source": [
        "620000-507510.49807911"
      ],
      "execution_count": null,
      "outputs": [
        {
          "output_type": "execute_result",
          "data": {
            "text/plain": [
              "112489.50192089"
            ]
          },
          "metadata": {},
          "execution_count": 6
        }
      ]
    },
    {
      "cell_type": "markdown",
      "metadata": {
        "id": "9eHn_VKlEtJd"
      },
      "source": [
        "## Basit Polinomal regresyon (5.Derece)"
      ]
    },
    {
      "cell_type": "markdown",
      "metadata": {
        "id": "oK3T_tPM_u5-"
      },
      "source": [
        "Bu bölümde sadece m2 bilgisiyle fiyat tahmin eden bir 5. dereceden bir polinomal model oluşturdum."
      ]
    },
    {
      "cell_type": "markdown",
      "metadata": {
        "id": "D7-JJHLwGstA"
      },
      "source": [
        "Bazı önemli kütüphanelerin içe aktarılması"
      ]
    },
    {
      "cell_type": "code",
      "metadata": {
        "id": "QeXugc95EwQd"
      },
      "source": [
        "import numpy as np\n",
        "import matplotlib.pyplot as plt\n",
        "import pandas as pd"
      ],
      "execution_count": null,
      "outputs": []
    },
    {
      "cell_type": "markdown",
      "metadata": {
        "id": "KIJMTFMZGtiL"
      },
      "source": [
        "Verinin okunması"
      ]
    },
    {
      "cell_type": "code",
      "metadata": {
        "id": "Bza8FsO-G1N4"
      },
      "source": [
        "ds = pd.read_csv('home_data.csv')"
      ],
      "execution_count": null,
      "outputs": []
    },
    {
      "cell_type": "markdown",
      "metadata": {
        "id": "aFWP-qcGG58n"
      },
      "source": [
        "Verideki sqft ve price kolonuna sayısal indeksle ulaşılmas"
      ]
    },
    {
      "cell_type": "code",
      "metadata": {
        "id": "h0vXvQ7eHAMd"
      },
      "source": [
        "X = ds.iloc[:,[5]].values\n",
        "y = ds.iloc[:, [2]].values"
      ],
      "execution_count": null,
      "outputs": []
    },
    {
      "cell_type": "markdown",
      "metadata": {
        "id": "mbuzKqyXG_SE"
      },
      "source": [
        "X ve y değerlerinin standart bir aralığa çekilmesi"
      ]
    },
    {
      "cell_type": "code",
      "metadata": {
        "id": "m9UOlBvVHBej"
      },
      "source": [
        "from sklearn.preprocessing import StandardScaler\n",
        "sc_X = StandardScaler()\n",
        "X_std = sc_X.fit_transform(X)\n",
        "y_std = sc_X.fit_transform(y)"
      ],
      "execution_count": null,
      "outputs": []
    },
    {
      "cell_type": "markdown",
      "metadata": {
        "id": "cS66zEWTHMEG"
      },
      "source": [
        "Eğitim ve test verisetinin ayrılması"
      ]
    },
    {
      "cell_type": "code",
      "metadata": {
        "id": "3ceGFywfHGZx"
      },
      "source": [
        "from sklearn.model_selection import train_test_split\n",
        "X_train ,X_test, y_train ,y_test = train_test_split(X_std, y_std, test_size=0.2, random_state = 0)"
      ],
      "execution_count": null,
      "outputs": []
    },
    {
      "cell_type": "markdown",
      "metadata": {
        "id": "hUCpWRuOHQRp"
      },
      "source": [
        "Polinomal regresyon modelinin 5. dereceden olşturulması ve modelin eğitim veri setine uydurulması"
      ]
    },
    {
      "cell_type": "code",
      "metadata": {
        "id": "nhaRX-_JHKK9"
      },
      "source": [
        "from sklearn.preprocessing import PolynomialFeatures\n",
        "poly_reg= PolynomialFeatures(degree=5)\n",
        "X_poly= poly_reg.fit_transform(X_train)\n",
        "from sklearn.linear_model import LinearRegression\n",
        "lin_reg=LinearRegression()\n",
        "lin_reg.fit(X_poly,y_train)\n",
        "X_pt=poly_reg.fit_transform(X_test)\n",
        "y_pred=lin_reg.predict(X_pt)"
      ],
      "execution_count": null,
      "outputs": []
    },
    {
      "cell_type": "markdown",
      "metadata": {
        "id": "13sYhN6HJgCo"
      },
      "source": [
        "Modelin çizdirilemesi"
      ]
    },
    {
      "cell_type": "code",
      "metadata": {
        "colab": {
          "base_uri": "https://localhost:8080/",
          "height": 282
        },
        "id": "c7yAkr_7HdLm",
        "outputId": "a6023d75-3881-477d-b3f0-974e0294c0f0"
      },
      "source": [
        "plt.scatter(X_test,y_test)\n",
        "plt.scatter(X_test,y_pred,c='g')"
      ],
      "execution_count": null,
      "outputs": [
        {
          "output_type": "execute_result",
          "data": {
            "text/plain": [
              "<matplotlib.collections.PathCollection at 0x7f6fdd395690>"
            ]
          },
          "metadata": {},
          "execution_count": 8
        },
        {
          "output_type": "display_data",
          "data": {
            "image/png": "[encoded data removed]",
            "text/plain": [
              "<Figure size 432x288 with 1 Axes>"
            ]
          },
          "metadata": {
            "needs_background": "light"
          }
        }
      ]
    },
    {
      "cell_type": "markdown",
      "metadata": {
        "id": "w7YkqCbEJimO"
      },
      "source": [
        "RMSE Hatasının hesaplanması"
      ]
    },
    {
      "cell_type": "code",
      "metadata": {
        "colab": {
          "base_uri": "https://localhost:8080/"
        },
        "id": "ENbD67sWHhmy",
        "outputId": "f41c12eb-a76f-4a70-dca6-ca4eb2b00eb9"
      },
      "source": [
        "from sklearn import metrics\n",
        "print('Root Mean Squared Error:', np.sqrt(metrics.mean_squared_error(y_test,y_pred)))"
      ],
      "execution_count": null,
      "outputs": [
        {
          "output_type": "stream",
          "name": "stdout",
          "text": [
            "Root Mean Squared Error: 0.6570396917796718\n"
          ]
        }
      ]
    },
    {
      "cell_type": "markdown",
      "metadata": {
        "id": "jWddpPHuJ8eZ"
      },
      "source": [
        "ID numarası 1925069082 olan evin veri içerisinden bulunması"
      ]
    },
    {
      "cell_type": "code",
      "metadata": {
        "colab": {
          "base_uri": "https://localhost:8080/",
          "height": 100
        },
        "id": "Hxe2LSP7HxFP",
        "outputId": "72cd82e7-6673-4fe9-c291-d395b6ae76c1"
      },
      "source": [
        "a=ds[ds['id']==1925069082]\n",
        "a"
      ],
      "execution_count": null,
      "outputs": [
        {
          "output_type": "execute_result",
          "data": {
            "text/html": [
              "<div>\n",
              "<style scoped>\n",
              "    .dataframe tbody tr th:only-of-type {\n",
              "        vertical-align: middle;\n",
              "    }\n",
              "\n",
              "    .dataframe tbody tr th {\n",
              "        vertical-align: top;\n",
              "    }\n",
              "\n",
              "    .dataframe thead th {\n",
              "        text-align: right;\n",
              "    }\n",
              "</style>\n",
              "<table border=\"1\" class=\"dataframe\">\n",
              "  <thead>\n",
              "    <tr style=\"text-align: right;\">\n",
              "      <th></th>\n",
              "      <th>id</th>\n",
              "      <th>date</th>\n",
              "      <th>price</th>\n",
              "      <th>bedrooms</th>\n",
              "      <th>bathrooms</th>\n",
              "      <th>sqft_living</th>\n",
              "      <th>sqft_lot</th>\n",
              "      <th>floors</th>\n",
              "      <th>waterfront</th>\n",
              "      <th>view</th>\n",
              "      <th>condition</th>\n",
              "      <th>grade</th>\n",
              "      <th>sqft_above</th>\n",
              "      <th>sqft_basement</th>\n",
              "      <th>yr_built</th>\n",
              "      <th>yr_renovated</th>\n",
              "      <th>zipcode</th>\n",
              "      <th>lat</th>\n",
              "      <th>long</th>\n",
              "      <th>sqft_living15</th>\n",
              "      <th>sqft_lot15</th>\n",
              "    </tr>\n",
              "  </thead>\n",
              "  <tbody>\n",
              "    <tr>\n",
              "      <th>1361</th>\n",
              "      <td>1925069082</td>\n",
              "      <td>20150511T000000</td>\n",
              "      <td>2200000</td>\n",
              "      <td>5</td>\n",
              "      <td>4.25</td>\n",
              "      <td>4640</td>\n",
              "      <td>22703</td>\n",
              "      <td>2.0</td>\n",
              "      <td>1</td>\n",
              "      <td>4</td>\n",
              "      <td>5</td>\n",
              "      <td>8</td>\n",
              "      <td>2860</td>\n",
              "      <td>1780</td>\n",
              "      <td>1952</td>\n",
              "      <td>0</td>\n",
              "      <td>98052</td>\n",
              "      <td>47.6393</td>\n",
              "      <td>-122.097</td>\n",
              "      <td>3140</td>\n",
              "      <td>14200</td>\n",
              "    </tr>\n",
              "  </tbody>\n",
              "</table>\n",
              "</div>"
            ],
            "text/plain": [
              "              id             date    price  ...     long  sqft_living15  sqft_lot15\n",
              "1361  1925069082  20150511T000000  2200000  ... -122.097           3140       14200\n",
              "\n",
              "[1 rows x 21 columns]"
            ]
          },
          "metadata": {},
          "execution_count": 10
        }
      ]
    },
    {
      "cell_type": "markdown",
      "metadata": {
        "id": "fY_tWFDFKFmE"
      },
      "source": [
        "ID numarası 1925069082 olan evin  5.dereceden regresyon modeli kullanarak m2 özelliği ile fiyat tahmini yapılaması "
      ]
    },
    {
      "cell_type": "code",
      "metadata": {
        "colab": {
          "base_uri": "https://localhost:8080/"
        },
        "id": "7awZNleWH-jS",
        "outputId": "6ff7f662-f765-4173-a2a4-157e6d84331a"
      },
      "source": [
        "y_new = lin_reg.predict(poly_reg.fit_transform([[4640]]))\n",
        "y_new"
      ],
      "execution_count": null,
      "outputs": [
        {
          "output_type": "execute_result",
          "data": {
            "text/plain": [
              "array([[-1.0401361e+15]])"
            ]
          },
          "metadata": {},
          "execution_count": 11
        }
      ]
    },
    {
      "cell_type": "markdown",
      "metadata": {
        "id": "Qvg-bf8hKOhe"
      },
      "source": [
        "Gerçek fiyat değeriyle tahminlenen fiyat arasındaki fark: 1040136102200000.0"
      ]
    },
    {
      "cell_type": "code",
      "metadata": {
        "colab": {
          "base_uri": "https://localhost:8080/"
        },
        "id": "ypcz2TNZFkbe",
        "outputId": "7de30e26-e3ca-499e-8546-1ea9172df013"
      },
      "source": [
        "2200000-(-1.0401361e+15)"
      ],
      "execution_count": null,
      "outputs": [
        {
          "output_type": "execute_result",
          "data": {
            "text/plain": [
              "1040136102200000.0"
            ]
          },
          "metadata": {},
          "execution_count": 10
        }
      ]
    },
    {
      "cell_type": "markdown",
      "metadata": {
        "id": "I6Esf0s3Kskj"
      },
      "source": [
        "ID numarası 5309101200 olan evin veri içersinden bulunması"
      ]
    },
    {
      "cell_type": "code",
      "metadata": {
        "colab": {
          "base_uri": "https://localhost:8080/",
          "height": 100
        },
        "id": "M6VBtnVwICKI",
        "outputId": "7930969b-648f-46d1-942b-d6a06f25352d"
      },
      "source": [
        "b=ds[ds['id']==5309101200]\n",
        "b"
      ],
      "execution_count": null,
      "outputs": [
        {
          "output_type": "execute_result",
          "data": {
            "text/html": [
              "<div>\n",
              "<style scoped>\n",
              "    .dataframe tbody tr th:only-of-type {\n",
              "        vertical-align: middle;\n",
              "    }\n",
              "\n",
              "    .dataframe tbody tr th {\n",
              "        vertical-align: top;\n",
              "    }\n",
              "\n",
              "    .dataframe thead th {\n",
              "        text-align: right;\n",
              "    }\n",
              "</style>\n",
              "<table border=\"1\" class=\"dataframe\">\n",
              "  <thead>\n",
              "    <tr style=\"text-align: right;\">\n",
              "      <th></th>\n",
              "      <th>id</th>\n",
              "      <th>date</th>\n",
              "      <th>price</th>\n",
              "      <th>bedrooms</th>\n",
              "      <th>bathrooms</th>\n",
              "      <th>sqft_living</th>\n",
              "      <th>sqft_lot</th>\n",
              "      <th>floors</th>\n",
              "      <th>waterfront</th>\n",
              "      <th>view</th>\n",
              "      <th>condition</th>\n",
              "      <th>grade</th>\n",
              "      <th>sqft_above</th>\n",
              "      <th>sqft_basement</th>\n",
              "      <th>yr_built</th>\n",
              "      <th>yr_renovated</th>\n",
              "      <th>zipcode</th>\n",
              "      <th>lat</th>\n",
              "      <th>long</th>\n",
              "      <th>sqft_living15</th>\n",
              "      <th>sqft_lot15</th>\n",
              "    </tr>\n",
              "  </thead>\n",
              "  <tbody>\n",
              "    <tr>\n",
              "      <th>1054</th>\n",
              "      <td>5309101200</td>\n",
              "      <td>20140605T000000</td>\n",
              "      <td>620000</td>\n",
              "      <td>4</td>\n",
              "      <td>2.25</td>\n",
              "      <td>2400</td>\n",
              "      <td>5350</td>\n",
              "      <td>1.5</td>\n",
              "      <td>0</td>\n",
              "      <td>0</td>\n",
              "      <td>4</td>\n",
              "      <td>7</td>\n",
              "      <td>1460</td>\n",
              "      <td>940</td>\n",
              "      <td>1929</td>\n",
              "      <td>0</td>\n",
              "      <td>98117</td>\n",
              "      <td>47.6763</td>\n",
              "      <td>-122.37</td>\n",
              "      <td>1250</td>\n",
              "      <td>4880</td>\n",
              "    </tr>\n",
              "  </tbody>\n",
              "</table>\n",
              "</div>"
            ],
            "text/plain": [
              "              id             date   price  ...    long  sqft_living15  sqft_lot15\n",
              "1054  5309101200  20140605T000000  620000  ... -122.37           1250        4880\n",
              "\n",
              "[1 rows x 21 columns]"
            ]
          },
          "metadata": {},
          "execution_count": 13
        }
      ]
    },
    {
      "cell_type": "markdown",
      "metadata": {
        "id": "TAy4Ci9cKX0m"
      },
      "source": [
        "ID numarası 5309101200 olan evin  5.dereceden regresyon modeli kullanarak m2 özelliği ile fiyat tahmini yapılaması "
      ]
    },
    {
      "cell_type": "code",
      "metadata": {
        "colab": {
          "base_uri": "https://localhost:8080/"
        },
        "id": "r5yqCQ_bILS2",
        "outputId": "74201987-4ab2-4d62-dd91-53894b2d8922"
      },
      "source": [
        "y_new1= lin_reg.predict(poly_reg.fit_transform([[2400]]))\n",
        "y_new1"
      ],
      "execution_count": null,
      "outputs": [
        {
          "output_type": "execute_result",
          "data": {
            "text/plain": [
              "array([[-3.83879913e+13]])"
            ]
          },
          "metadata": {},
          "execution_count": 14
        }
      ]
    },
    {
      "cell_type": "markdown",
      "metadata": {
        "id": "fkPJLBNuK0I5"
      },
      "source": [
        "Gerçek fiyat değeriyle tahminlenen fiyat arasındaki fark: 38387991920000.0"
      ]
    },
    {
      "cell_type": "code",
      "metadata": {
        "colab": {
          "base_uri": "https://localhost:8080/"
        },
        "id": "k0Ile7NeFa0d",
        "outputId": "0a39183e-8ac1-4dee-beb7-7975aa377a00"
      },
      "source": [
        "620000-(-3.83879913e+13)"
      ],
      "execution_count": null,
      "outputs": [
        {
          "output_type": "execute_result",
          "data": {
            "text/plain": [
              "38387991920000.0"
            ]
          },
          "metadata": {},
          "execution_count": 9
        }
      ]
    },
    {
      "cell_type": "markdown",
      "metadata": {
        "id": "1EoTDvNaFqum"
      },
      "source": [
        "###Sonuç "
      ]
    },
    {
      "cell_type": "markdown",
      "metadata": {
        "id": "6iXUJlUgFuxX"
      },
      "source": [
        "ID numaraları '5309101200' ve '1925069082' olan evlerin fiyatlarının tahminini yapan modellerimden 2. dereceden polinomal regresyon modelindeki hatanın  5. dereceden polinomal regresyon modelinden daha az olduğu, modeldeki derece artışının tahmin sonucuna negatif bir etki yaptığını ve tahmin performansını düşürdüğünü tespit ettim."
      ]
    },
    {
      "cell_type": "markdown",
      "metadata": {
        "id": "9za8pEhtyII_"
      },
      "source": [
        "## Gelişmiş özellikler kullanan polinomal model (2. Derece)"
      ]
    },
    {
      "cell_type": "markdown",
      "metadata": {
        "id": "48KIoUHs-krz"
      },
      "source": [
        "Bu bölümde verideki bütün özellikleri kullanarak bir 2. derecden polinomal regresyon modeli oluşturacağız."
      ]
    },
    {
      "cell_type": "markdown",
      "metadata": {
        "id": "P56Jak_U-4Jz"
      },
      "source": [
        "Kütüphanelerin içe aktarılması"
      ]
    },
    {
      "cell_type": "code",
      "metadata": {
        "id": "ZzdLUCoL0e7o"
      },
      "source": [
        "import numpy as np\n",
        "import matplotlib.pyplot as plt\n",
        "import pandas as pd"
      ],
      "execution_count": 3,
      "outputs": []
    },
    {
      "cell_type": "markdown",
      "metadata": {
        "id": "QpfsIhHw-7M7"
      },
      "source": [
        "Verinin okunması"
      ]
    },
    {
      "cell_type": "code",
      "metadata": {
        "id": "PnOCZJVY1X7c"
      },
      "source": [
        "df = pd.read_csv('home_data.csv')"
      ],
      "execution_count": 4,
      "outputs": []
    },
    {
      "cell_type": "code",
      "metadata": {
        "colab": {
          "base_uri": "https://localhost:8080/"
        },
        "id": "z7yhTwO21X_Z",
        "outputId": "40c0afeb-ccde-4111-e4d0-42f2617e8a95"
      },
      "source": [
        "df.columns"
      ],
      "execution_count": null,
      "outputs": [
        {
          "output_type": "execute_result",
          "data": {
            "text/plain": [
              "Index(['id', 'date', 'price', 'bedrooms', 'bathrooms', 'sqft_living',\n",
              "       'sqft_lot', 'floors', 'waterfront', 'view', 'condition', 'grade',\n",
              "       'sqft_above', 'sqft_basement', 'yr_built', 'yr_renovated', 'zipcode',\n",
              "       'lat', 'long', 'sqft_living15', 'sqft_lot15'],\n",
              "      dtype='object')"
            ]
          },
          "metadata": {},
          "execution_count": 5
        }
      ]
    },
    {
      "cell_type": "markdown",
      "metadata": {
        "id": "d0zdeNSF-84e"
      },
      "source": [
        "X değerleri verideki id ve date özellikleri hariç diğer özelliklerin değerlerini içerirken y değerleri ise price kolonundaki değerleri içerir"
      ]
    },
    {
      "cell_type": "code",
      "metadata": {
        "id": "Pak84TLN1YCl"
      },
      "source": [
        "X = df.iloc[:,3:].values\n",
        "y = df.iloc[:, [2]].values"
      ],
      "execution_count": 5,
      "outputs": []
    },
    {
      "cell_type": "markdown",
      "metadata": {
        "id": "RsWnTd1j_Jht"
      },
      "source": [
        "Modeli 2. derecden olacak şekilde ayarladım ve verileri belirli bir standart aralığa çektim"
      ]
    },
    {
      "cell_type": "code",
      "metadata": {
        "id": "27rAFkle1k__"
      },
      "source": [
        "from sklearn.preprocessing import PolynomialFeatures\n",
        "poly_reg = PolynomialFeatures(degree=2)\n",
        "X_poly = poly_reg.fit_transform(X)\n",
        "from sklearn.preprocessing import StandardScaler\n",
        "sc_X = StandardScaler()\n",
        "X_poly_std = sc_X.fit_transform(X_poly)"
      ],
      "execution_count": 6,
      "outputs": []
    },
    {
      "cell_type": "markdown",
      "metadata": {
        "id": "aqB0HPoH_RHX"
      },
      "source": [
        "Veri setini eğitim ve test olarak ayırdım"
      ]
    },
    {
      "cell_type": "code",
      "metadata": {
        "id": "ccvTxBZX1maY"
      },
      "source": [
        "from sklearn.model_selection import train_test_split\n",
        "X_train ,X_test, y_train ,y_test = train_test_split(X_poly_std, y, test_size=0.2, random_state = 0)"
      ],
      "execution_count": 7,
      "outputs": []
    },
    {
      "cell_type": "markdown",
      "metadata": {
        "id": "wVyZn1Dl_VHj"
      },
      "source": [
        "Olşturduğum 2. dereceden modeli eğitim veri setime uydurdum"
      ]
    },
    {
      "cell_type": "code",
      "metadata": {
        "colab": {
          "base_uri": "https://localhost:8080/"
        },
        "id": "yMDYFIO_1mdv",
        "outputId": "2e7cfad5-b019-4bee-ccad-e7855f01309c"
      },
      "source": [
        "from sklearn.linear_model import LinearRegression\n",
        "lin_reg=LinearRegression()\n",
        "lin_reg.fit(X_train,y_train)"
      ],
      "execution_count": 8,
      "outputs": [
        {
          "output_type": "execute_result",
          "data": {
            "text/plain": [
              "LinearRegression(copy_X=True, fit_intercept=True, n_jobs=None, normalize=False)"
            ]
          },
          "metadata": {},
          "execution_count": 8
        }
      ]
    },
    {
      "cell_type": "markdown",
      "metadata": {
        "id": "HSniG-Ae_hul"
      },
      "source": [
        "Modelin tahminlemesi"
      ]
    },
    {
      "cell_type": "code",
      "metadata": {
        "id": "LuDapF3h1mg5"
      },
      "source": [
        "y_pred = lin_reg.predict(X_test)"
      ],
      "execution_count": 9,
      "outputs": []
    },
    {
      "cell_type": "markdown",
      "metadata": {
        "id": "SYg6rFEY_jiF"
      },
      "source": [
        "RMSE Hatası"
      ]
    },
    {
      "cell_type": "code",
      "metadata": {
        "colab": {
          "base_uri": "https://localhost:8080/"
        },
        "id": "AIZ1tZ2h1mkZ",
        "outputId": "de0f5630-9865-4411-a2de-e846a9966f58"
      },
      "source": [
        "from sklearn import metrics\n",
        "print('Root Mean Squared Error:', np.sqrt(metrics.mean_squared_error(y_test,y_pred)))"
      ],
      "execution_count": 10,
      "outputs": [
        {
          "output_type": "stream",
          "name": "stdout",
          "text": [
            "Root Mean Squared Error: 152399.3569169217\n"
          ]
        }
      ]
    },
    {
      "cell_type": "markdown",
      "metadata": {
        "id": "NcBdH7Wl_lRV"
      },
      "source": [
        "RMSE hatasının yorumu sonuç kısmında detaylı olarak anlatılmıştır."
      ]
    },
    {
      "cell_type": "markdown",
      "metadata": {
        "id": "Pjt_dXxsyGPG"
      },
      "source": [
        "## Gelişmiş özellikler kullanan polinomal model (5. Derece)"
      ]
    },
    {
      "cell_type": "markdown",
      "metadata": {
        "id": "Wko_4GbS-nVu"
      },
      "source": [
        "Bu bölümde verideki bütün özellikleri kullanarak bir 5. derecden polinomal regresyon modeli oluşturacağız."
      ]
    },
    {
      "cell_type": "markdown",
      "metadata": {
        "id": "LVbQMBrd9AlL"
      },
      "source": [
        "Kütüphanelerin içe aktarılması"
      ]
    },
    {
      "cell_type": "code",
      "metadata": {
        "id": "lIbkTUZ-c_Xp"
      },
      "source": [
        "import numpy as np\n",
        "import matplotlib.pyplot as plt\n",
        "import pandas as pd"
      ],
      "execution_count": 1,
      "outputs": []
    },
    {
      "cell_type": "markdown",
      "metadata": {
        "id": "5PTjrRkw9GF1"
      },
      "source": [
        "Verinin okunması"
      ]
    },
    {
      "cell_type": "code",
      "metadata": {
        "id": "KXQrqR1ydHaS"
      },
      "source": [
        "df = pd.read_csv('home_data.csv')"
      ],
      "execution_count": 2,
      "outputs": []
    },
    {
      "cell_type": "code",
      "metadata": {
        "colab": {
          "base_uri": "https://localhost:8080/"
        },
        "id": "k4ETC70qdPMS",
        "outputId": "2ccfa014-49a4-424e-a99a-e0014dccbf25"
      },
      "source": [
        "df.columns"
      ],
      "execution_count": 3,
      "outputs": [
        {
          "output_type": "execute_result",
          "data": {
            "text/plain": [
              "Index(['id', 'date', 'price', 'bedrooms', 'bathrooms', 'sqft_living',\n",
              "       'sqft_lot', 'floors', 'waterfront', 'view', 'condition', 'grade',\n",
              "       'sqft_above', 'sqft_basement', 'yr_built', 'yr_renovated', 'zipcode',\n",
              "       'lat', 'long', 'sqft_living15', 'sqft_lot15'],\n",
              "      dtype='object')"
            ]
          },
          "metadata": {},
          "execution_count": 3
        }
      ]
    },
    {
      "cell_type": "markdown",
      "metadata": {
        "id": "Rav14NQa9IMh"
      },
      "source": [
        "Verideki id ve date özellikleri hariç diğer özellikler X değerlerini price içersindeki bilgi ise y değerlerini oluşturuyor "
      ]
    },
    {
      "cell_type": "code",
      "metadata": {
        "id": "q1hALD2CdLaj"
      },
      "source": [
        "X = df.iloc[:,3:].values\n",
        "y = df.iloc[:, [2]].values"
      ],
      "execution_count": 3,
      "outputs": []
    },
    {
      "cell_type": "markdown",
      "metadata": {
        "id": "NrSXQuSm9VTb"
      },
      "source": [
        "Modeli 5. dereceden bir polinomal regresyon modeli oluşturmayı istedim fakat colab oturumu ram yetersizliği hatası verdiği için model derecesini 4'e düşürmek zorunda kaldım. 4. dereceden Modeli olşturdum ve verileri belirli bir standart aralığa çektim"
      ]
    },
    {
      "cell_type": "code",
      "metadata": {
        "id": "xlofkc706Ev6"
      },
      "source": [
        "from sklearn.preprocessing import PolynomialFeatures\n",
        "poly_reg = PolynomialFeatures(degree=4)\n",
        "X_poly = poly_reg.fit_transform(X)\n",
        "from sklearn.preprocessing import StandardScaler\n",
        "sc_X = StandardScaler()\n",
        "X_poly_std = sc_X.fit_transform(X_poly)"
      ],
      "execution_count": 4,
      "outputs": []
    },
    {
      "cell_type": "markdown",
      "metadata": {
        "id": "LgLGC_Fy9x1e"
      },
      "source": [
        "Veriyi eğitim ve test veri kümesi olarak ayırıdm"
      ]
    },
    {
      "cell_type": "code",
      "metadata": {
        "id": "fB_m0HuB7EtT"
      },
      "source": [
        "from sklearn.model_selection import train_test_split\n",
        "X_train ,X_test, y_train ,y_test = train_test_split(X_poly_std, y, test_size=0.2, random_state = 0)"
      ],
      "execution_count": 5,
      "outputs": []
    },
    {
      "cell_type": "markdown",
      "metadata": {
        "id": "EvI98OmJ93mr"
      },
      "source": [
        "Modeli eğitim veri setine uydurdum"
      ]
    },
    {
      "cell_type": "code",
      "metadata": {
        "colab": {
          "base_uri": "https://localhost:8080/"
        },
        "id": "GNN-_8WL7gtX",
        "outputId": "5e00f52e-7071-4c2e-be71-f9def95b293d"
      },
      "source": [
        "from sklearn.linear_model import LinearRegression\n",
        "lin_reg=LinearRegression()\n",
        "lin_reg.fit(X_train,y_train)"
      ],
      "execution_count": 7,
      "outputs": [
        {
          "output_type": "execute_result",
          "data": {
            "text/plain": [
              "LinearRegression(copy_X=True, fit_intercept=True, n_jobs=None, normalize=False)"
            ]
          },
          "metadata": {},
          "execution_count": 7
        }
      ]
    },
    {
      "cell_type": "markdown",
      "metadata": {
        "id": "vLlAqCAB97hp"
      },
      "source": [
        "Model tarafından yapılan tahminleme"
      ]
    },
    {
      "cell_type": "code",
      "metadata": {
        "id": "pA_ijLjH7cFs"
      },
      "source": [
        "y_pred = lin_reg.predict(X_test)"
      ],
      "execution_count": 8,
      "outputs": []
    },
    {
      "cell_type": "markdown",
      "metadata": {
        "id": "xXOCYy6X9_h5"
      },
      "source": [
        "RMSE hatası"
      ]
    },
    {
      "cell_type": "code",
      "metadata": {
        "colab": {
          "base_uri": "https://localhost:8080/"
        },
        "id": "KsQg5F44dxKy",
        "outputId": "8b9076a5-f2ac-4a8f-eeea-820511e30ed4"
      },
      "source": [
        "from sklearn import metrics\n",
        "print('Root Mean Squared Error:', np.sqrt(metrics.mean_squared_error(y_test,y_pred)))"
      ],
      "execution_count": 9,
      "outputs": [
        {
          "output_type": "stream",
          "name": "stdout",
          "text": [
            "Root Mean Squared Error: 3380612939441.9688\n"
          ]
        }
      ]
    },
    {
      "cell_type": "markdown",
      "metadata": {
        "id": "jBnliyd6-A_6"
      },
      "source": [
        "### Sonuç"
      ]
    },
    {
      "cell_type": "markdown",
      "metadata": {
        "id": "hq5frmPv-CUk"
      },
      "source": [
        "Verisetindeki diğer özellikleri de katarak oluşturduğum 2. dereceden ve 4ç dereceden polinomal regresyon modelinde RMSE hatalarını hesapladım. 2.dereceden oluşturduğum hata diğeri 4. derecden olşturulan modele göre daha az çıktı. Bu 2. dereceden polinomal modelin kullanılması konusunda bizi motive eder."
      ]
    },
    {
      "cell_type": "markdown",
      "metadata": {
        "id": "kdd-i3UqDwb2"
      },
      "source": [
        "# Kaynakça"
      ]
    },
    {
      "cell_type": "markdown",
      "metadata": {
        "id": "qcx6ddOxD8oe"
      },
      "source": [
        "[Lineer Regresyon nedir?](https://machinelearningmastery.com/linear-regression-for-machine-learning/)"
      ]
    },
    {
      "cell_type": "markdown",
      "metadata": {
        "id": "sgxVWKCqDytO"
      },
      "source": [
        "[Polinomal regresyon nedir?](https://www.javatpoint.com/machine-learning-polynomial-regression)"
      ]
    }
  ]
}